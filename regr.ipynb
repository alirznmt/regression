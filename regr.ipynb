{
 "cells": [
  {
   "cell_type": "code",
   "execution_count": null,
   "id": "7f2f4fab",
   "metadata": {
    "executionInfo": {
     "elapsed": 2,
     "status": "ok",
     "timestamp": 1699900251260,
     "user": {
      "displayName": "alireza nemati",
      "userId": "14897435393400076413"
     },
     "user_tz": -210
    },
    "id": "7f2f4fab"
   },
   "outputs": [],
   "source": [
    "import pandas as pd\n",
    "import numpy as np\n",
    "import matplotlib.pyplot as plt\n",
    "from sklearn.preprocessing import StandardScaler\n",
    "from sklearn.model_selection import train_test_split\n",
    "from sklearn.linear_model import LinearRegression\n",
    "from sklearn.preprocessing import PolynomialFeatures\n",
    "\n",
    "import random\n",
    "import time\n"
   ]
  },
  {
   "cell_type": "markdown",
   "id": "FnYxZKNPC6SF",
   "metadata": {
    "id": "FnYxZKNPC6SF"
   },
   "source": [
    "read data"
   ]
  },
  {
   "cell_type": "code",
   "execution_count": null,
   "id": "ec5ce1a7",
   "metadata": {
    "executionInfo": {
     "elapsed": 23226,
     "status": "ok",
     "timestamp": 1699890457277,
     "user": {
      "displayName": "alireza nemati",
      "userId": "14897435393400076413"
     },
     "user_tz": -210
    },
    "id": "ec5ce1a7"
   },
   "outputs": [],
   "source": [
    "full_data=pd.read_excel('weatherHistory.xlsx', sheet_name='weatherHistory')"
   ]
  },
  {
   "cell_type": "code",
   "execution_count": 33,
   "id": "b9caf069",
   "metadata": {
    "colab": {
     "base_uri": "https://localhost:8080/",
     "height": 414
    },
    "executionInfo": {
     "elapsed": 23,
     "status": "ok",
     "timestamp": 1699874871399,
     "user": {
      "displayName": "alireza nemati",
      "userId": "14897435393400076413"
     },
     "user_tz": -210
    },
    "id": "b9caf069",
    "outputId": "229de7ca-b647-45da-d0e2-c6403e78c491",
    "scrolled": true
   },
   "outputs": [
    {
     "data": {
      "text/html": [
       "\n",
       "  <div id=\"df-739180e0-029e-4a22-b93b-b5a5eff7f320\" class=\"colab-df-container\">\n",
       "    <div>\n",
       "<style scoped>\n",
       "    .dataframe tbody tr th:only-of-type {\n",
       "        vertical-align: middle;\n",
       "    }\n",
       "\n",
       "    .dataframe tbody tr th {\n",
       "        vertical-align: top;\n",
       "    }\n",
       "\n",
       "    .dataframe thead th {\n",
       "        text-align: right;\n",
       "    }\n",
       "</style>\n",
       "<table border=\"1\" class=\"dataframe\">\n",
       "  <thead>\n",
       "    <tr style=\"text-align: right;\">\n",
       "      <th></th>\n",
       "      <th>Formatted Date</th>\n",
       "      <th>Summary</th>\n",
       "      <th>Precip Type</th>\n",
       "      <th>Temperature (C)</th>\n",
       "      <th>Apparent Temperature (C)</th>\n",
       "      <th>Humidity</th>\n",
       "      <th>Wind Speed (km/h)</th>\n",
       "      <th>Wind Bearing (degrees)</th>\n",
       "      <th>Visibility (km)</th>\n",
       "      <th>Loud Cover</th>\n",
       "      <th>Pressure (millibars)</th>\n",
       "      <th>Daily Summary</th>\n",
       "    </tr>\n",
       "  </thead>\n",
       "  <tbody>\n",
       "    <tr>\n",
       "      <th>0</th>\n",
       "      <td>2006-04-01 00:00:00.000 +0200</td>\n",
       "      <td>Partly Cloudy</td>\n",
       "      <td>rain</td>\n",
       "      <td>9.472222</td>\n",
       "      <td>7.388889</td>\n",
       "      <td>0.89</td>\n",
       "      <td>14.1197</td>\n",
       "      <td>251</td>\n",
       "      <td>15.8263</td>\n",
       "      <td>0</td>\n",
       "      <td>1015.13</td>\n",
       "      <td>Partly cloudy throughout the day.</td>\n",
       "    </tr>\n",
       "    <tr>\n",
       "      <th>1</th>\n",
       "      <td>2006-04-01 01:00:00.000 +0200</td>\n",
       "      <td>Partly Cloudy</td>\n",
       "      <td>rain</td>\n",
       "      <td>9.355556</td>\n",
       "      <td>7.227778</td>\n",
       "      <td>0.86</td>\n",
       "      <td>14.2646</td>\n",
       "      <td>259</td>\n",
       "      <td>15.8263</td>\n",
       "      <td>0</td>\n",
       "      <td>1015.63</td>\n",
       "      <td>Partly cloudy throughout the day.</td>\n",
       "    </tr>\n",
       "    <tr>\n",
       "      <th>2</th>\n",
       "      <td>2006-04-01 02:00:00.000 +0200</td>\n",
       "      <td>Mostly Cloudy</td>\n",
       "      <td>rain</td>\n",
       "      <td>9.377778</td>\n",
       "      <td>9.377778</td>\n",
       "      <td>0.89</td>\n",
       "      <td>3.9284</td>\n",
       "      <td>204</td>\n",
       "      <td>14.9569</td>\n",
       "      <td>0</td>\n",
       "      <td>1015.94</td>\n",
       "      <td>Partly cloudy throughout the day.</td>\n",
       "    </tr>\n",
       "    <tr>\n",
       "      <th>3</th>\n",
       "      <td>2006-04-01 03:00:00.000 +0200</td>\n",
       "      <td>Partly Cloudy</td>\n",
       "      <td>rain</td>\n",
       "      <td>8.288889</td>\n",
       "      <td>5.944444</td>\n",
       "      <td>0.83</td>\n",
       "      <td>14.1036</td>\n",
       "      <td>269</td>\n",
       "      <td>15.8263</td>\n",
       "      <td>0</td>\n",
       "      <td>1016.41</td>\n",
       "      <td>Partly cloudy throughout the day.</td>\n",
       "    </tr>\n",
       "    <tr>\n",
       "      <th>4</th>\n",
       "      <td>2006-04-01 04:00:00.000 +0200</td>\n",
       "      <td>Mostly Cloudy</td>\n",
       "      <td>rain</td>\n",
       "      <td>8.755556</td>\n",
       "      <td>6.977778</td>\n",
       "      <td>0.83</td>\n",
       "      <td>11.0446</td>\n",
       "      <td>259</td>\n",
       "      <td>15.8263</td>\n",
       "      <td>0</td>\n",
       "      <td>1016.51</td>\n",
       "      <td>Partly cloudy throughout the day.</td>\n",
       "    </tr>\n",
       "  </tbody>\n",
       "</table>\n",
       "</div>\n",
       "    <div class=\"colab-df-buttons\">\n",
       "\n",
       "  <div class=\"colab-df-container\">\n",
       "    <button class=\"colab-df-convert\" onclick=\"convertToInteractive('df-739180e0-029e-4a22-b93b-b5a5eff7f320')\"\n",
       "            title=\"Convert this dataframe to an interactive table.\"\n",
       "            style=\"display:none;\">\n",
       "\n",
       "  <svg xmlns=\"http://www.w3.org/2000/svg\" height=\"24px\" viewBox=\"0 -960 960 960\">\n",
       "    <path d=\"M120-120v-720h720v720H120Zm60-500h600v-160H180v160Zm220 220h160v-160H400v160Zm0 220h160v-160H400v160ZM180-400h160v-160H180v160Zm440 0h160v-160H620v160ZM180-180h160v-160H180v160Zm440 0h160v-160H620v160Z\"/>\n",
       "  </svg>\n",
       "    </button>\n",
       "\n",
       "  <style>\n",
       "    .colab-df-container {\n",
       "      display:flex;\n",
       "      gap: 12px;\n",
       "    }\n",
       "\n",
       "    .colab-df-convert {\n",
       "      background-color: #E8F0FE;\n",
       "      border: none;\n",
       "      border-radius: 50%;\n",
       "      cursor: pointer;\n",
       "      display: none;\n",
       "      fill: #1967D2;\n",
       "      height: 32px;\n",
       "      padding: 0 0 0 0;\n",
       "      width: 32px;\n",
       "    }\n",
       "\n",
       "    .colab-df-convert:hover {\n",
       "      background-color: #E2EBFA;\n",
       "      box-shadow: 0px 1px 2px rgba(60, 64, 67, 0.3), 0px 1px 3px 1px rgba(60, 64, 67, 0.15);\n",
       "      fill: #174EA6;\n",
       "    }\n",
       "\n",
       "    .colab-df-buttons div {\n",
       "      margin-bottom: 4px;\n",
       "    }\n",
       "\n",
       "    [theme=dark] .colab-df-convert {\n",
       "      background-color: #3B4455;\n",
       "      fill: #D2E3FC;\n",
       "    }\n",
       "\n",
       "    [theme=dark] .colab-df-convert:hover {\n",
       "      background-color: #434B5C;\n",
       "      box-shadow: 0px 1px 3px 1px rgba(0, 0, 0, 0.15);\n",
       "      filter: drop-shadow(0px 1px 2px rgba(0, 0, 0, 0.3));\n",
       "      fill: #FFFFFF;\n",
       "    }\n",
       "  </style>\n",
       "\n",
       "    <script>\n",
       "      const buttonEl =\n",
       "        document.querySelector('#df-739180e0-029e-4a22-b93b-b5a5eff7f320 button.colab-df-convert');\n",
       "      buttonEl.style.display =\n",
       "        google.colab.kernel.accessAllowed ? 'block' : 'none';\n",
       "\n",
       "      async function convertToInteractive(key) {\n",
       "        const element = document.querySelector('#df-739180e0-029e-4a22-b93b-b5a5eff7f320');\n",
       "        const dataTable =\n",
       "          await google.colab.kernel.invokeFunction('convertToInteractive',\n",
       "                                                    [key], {});\n",
       "        if (!dataTable) return;\n",
       "\n",
       "        const docLinkHtml = 'Like what you see? Visit the ' +\n",
       "          '<a target=\"_blank\" href=https://colab.research.google.com/notebooks/data_table.ipynb>data table notebook</a>'\n",
       "          + ' to learn more about interactive tables.';\n",
       "        element.innerHTML = '';\n",
       "        dataTable['output_type'] = 'display_data';\n",
       "        await google.colab.output.renderOutput(dataTable, element);\n",
       "        const docLink = document.createElement('div');\n",
       "        docLink.innerHTML = docLinkHtml;\n",
       "        element.appendChild(docLink);\n",
       "      }\n",
       "    </script>\n",
       "  </div>\n",
       "\n",
       "\n",
       "<div id=\"df-eb6bddc4-9a72-45a3-86ba-6a31e157aedd\">\n",
       "  <button class=\"colab-df-quickchart\" onclick=\"quickchart('df-eb6bddc4-9a72-45a3-86ba-6a31e157aedd')\"\n",
       "            title=\"Suggest charts\"\n",
       "            style=\"display:none;\">\n",
       "\n",
       "<svg xmlns=\"http://www.w3.org/2000/svg\" height=\"24px\"viewBox=\"0 0 24 24\"\n",
       "     width=\"24px\">\n",
       "    <g>\n",
       "        <path d=\"M19 3H5c-1.1 0-2 .9-2 2v14c0 1.1.9 2 2 2h14c1.1 0 2-.9 2-2V5c0-1.1-.9-2-2-2zM9 17H7v-7h2v7zm4 0h-2V7h2v10zm4 0h-2v-4h2v4z\"/>\n",
       "    </g>\n",
       "</svg>\n",
       "  </button>\n",
       "\n",
       "<style>\n",
       "  .colab-df-quickchart {\n",
       "      --bg-color: #E8F0FE;\n",
       "      --fill-color: #1967D2;\n",
       "      --hover-bg-color: #E2EBFA;\n",
       "      --hover-fill-color: #174EA6;\n",
       "      --disabled-fill-color: #AAA;\n",
       "      --disabled-bg-color: #DDD;\n",
       "  }\n",
       "\n",
       "  [theme=dark] .colab-df-quickchart {\n",
       "      --bg-color: #3B4455;\n",
       "      --fill-color: #D2E3FC;\n",
       "      --hover-bg-color: #434B5C;\n",
       "      --hover-fill-color: #FFFFFF;\n",
       "      --disabled-bg-color: #3B4455;\n",
       "      --disabled-fill-color: #666;\n",
       "  }\n",
       "\n",
       "  .colab-df-quickchart {\n",
       "    background-color: var(--bg-color);\n",
       "    border: none;\n",
       "    border-radius: 50%;\n",
       "    cursor: pointer;\n",
       "    display: none;\n",
       "    fill: var(--fill-color);\n",
       "    height: 32px;\n",
       "    padding: 0;\n",
       "    width: 32px;\n",
       "  }\n",
       "\n",
       "  .colab-df-quickchart:hover {\n",
       "    background-color: var(--hover-bg-color);\n",
       "    box-shadow: 0 1px 2px rgba(60, 64, 67, 0.3), 0 1px 3px 1px rgba(60, 64, 67, 0.15);\n",
       "    fill: var(--button-hover-fill-color);\n",
       "  }\n",
       "\n",
       "  .colab-df-quickchart-complete:disabled,\n",
       "  .colab-df-quickchart-complete:disabled:hover {\n",
       "    background-color: var(--disabled-bg-color);\n",
       "    fill: var(--disabled-fill-color);\n",
       "    box-shadow: none;\n",
       "  }\n",
       "\n",
       "  .colab-df-spinner {\n",
       "    border: 2px solid var(--fill-color);\n",
       "    border-color: transparent;\n",
       "    border-bottom-color: var(--fill-color);\n",
       "    animation:\n",
       "      spin 1s steps(1) infinite;\n",
       "  }\n",
       "\n",
       "  @keyframes spin {\n",
       "    0% {\n",
       "      border-color: transparent;\n",
       "      border-bottom-color: var(--fill-color);\n",
       "      border-left-color: var(--fill-color);\n",
       "    }\n",
       "    20% {\n",
       "      border-color: transparent;\n",
       "      border-left-color: var(--fill-color);\n",
       "      border-top-color: var(--fill-color);\n",
       "    }\n",
       "    30% {\n",
       "      border-color: transparent;\n",
       "      border-left-color: var(--fill-color);\n",
       "      border-top-color: var(--fill-color);\n",
       "      border-right-color: var(--fill-color);\n",
       "    }\n",
       "    40% {\n",
       "      border-color: transparent;\n",
       "      border-right-color: var(--fill-color);\n",
       "      border-top-color: var(--fill-color);\n",
       "    }\n",
       "    60% {\n",
       "      border-color: transparent;\n",
       "      border-right-color: var(--fill-color);\n",
       "    }\n",
       "    80% {\n",
       "      border-color: transparent;\n",
       "      border-right-color: var(--fill-color);\n",
       "      border-bottom-color: var(--fill-color);\n",
       "    }\n",
       "    90% {\n",
       "      border-color: transparent;\n",
       "      border-bottom-color: var(--fill-color);\n",
       "    }\n",
       "  }\n",
       "</style>\n",
       "\n",
       "  <script>\n",
       "    async function quickchart(key) {\n",
       "      const quickchartButtonEl =\n",
       "        document.querySelector('#' + key + ' button');\n",
       "      quickchartButtonEl.disabled = true;  // To prevent multiple clicks.\n",
       "      quickchartButtonEl.classList.add('colab-df-spinner');\n",
       "      try {\n",
       "        const charts = await google.colab.kernel.invokeFunction(\n",
       "            'suggestCharts', [key], {});\n",
       "      } catch (error) {\n",
       "        console.error('Error during call to suggestCharts:', error);\n",
       "      }\n",
       "      quickchartButtonEl.classList.remove('colab-df-spinner');\n",
       "      quickchartButtonEl.classList.add('colab-df-quickchart-complete');\n",
       "    }\n",
       "    (() => {\n",
       "      let quickchartButtonEl =\n",
       "        document.querySelector('#df-eb6bddc4-9a72-45a3-86ba-6a31e157aedd button');\n",
       "      quickchartButtonEl.style.display =\n",
       "        google.colab.kernel.accessAllowed ? 'block' : 'none';\n",
       "    })();\n",
       "  </script>\n",
       "</div>\n",
       "    </div>\n",
       "  </div>\n"
      ],
      "text/plain": [
       "                  Formatted Date        Summary Precip Type  Temperature (C)  \\\n",
       "0  2006-04-01 00:00:00.000 +0200  Partly Cloudy        rain         9.472222   \n",
       "1  2006-04-01 01:00:00.000 +0200  Partly Cloudy        rain         9.355556   \n",
       "2  2006-04-01 02:00:00.000 +0200  Mostly Cloudy        rain         9.377778   \n",
       "3  2006-04-01 03:00:00.000 +0200  Partly Cloudy        rain         8.288889   \n",
       "4  2006-04-01 04:00:00.000 +0200  Mostly Cloudy        rain         8.755556   \n",
       "\n",
       "   Apparent Temperature (C)  Humidity  Wind Speed (km/h)  \\\n",
       "0                  7.388889      0.89            14.1197   \n",
       "1                  7.227778      0.86            14.2646   \n",
       "2                  9.377778      0.89             3.9284   \n",
       "3                  5.944444      0.83            14.1036   \n",
       "4                  6.977778      0.83            11.0446   \n",
       "\n",
       "   Wind Bearing (degrees)  Visibility (km)  Loud Cover  Pressure (millibars)  \\\n",
       "0                     251          15.8263           0               1015.13   \n",
       "1                     259          15.8263           0               1015.63   \n",
       "2                     204          14.9569           0               1015.94   \n",
       "3                     269          15.8263           0               1016.41   \n",
       "4                     259          15.8263           0               1016.51   \n",
       "\n",
       "                       Daily Summary  \n",
       "0  Partly cloudy throughout the day.  \n",
       "1  Partly cloudy throughout the day.  \n",
       "2  Partly cloudy throughout the day.  \n",
       "3  Partly cloudy throughout the day.  \n",
       "4  Partly cloudy throughout the day.  "
      ]
     },
     "execution_count": 33,
     "metadata": {},
     "output_type": "execute_result"
    }
   ],
   "source": [
    "full_data.head()"
   ]
  },
  {
   "cell_type": "code",
   "execution_count": 3,
   "id": "0160fed5",
   "metadata": {
    "executionInfo": {
     "elapsed": 10,
     "status": "ok",
     "timestamp": 1699890489339,
     "user": {
      "displayName": "alireza nemati",
      "userId": "14897435393400076413"
     },
     "user_tz": -210
    },
    "id": "0160fed5"
   },
   "outputs": [],
   "source": [
    "data=full_data[['Temperature (C)','Apparent Temperature (C)','Humidity','Wind Bearing (degrees)','Visibility (km)','Pressure (millibars)','Wind Speed (km/h)']]"
   ]
  },
  {
   "cell_type": "code",
   "execution_count": 35,
   "id": "6ed034dd",
   "metadata": {
    "colab": {
     "base_uri": "https://localhost:8080/",
     "height": 206
    },
    "executionInfo": {
     "elapsed": 19,
     "status": "ok",
     "timestamp": 1699874871399,
     "user": {
      "displayName": "alireza nemati",
      "userId": "14897435393400076413"
     },
     "user_tz": -210
    },
    "id": "6ed034dd",
    "outputId": "a26dcf59-c51b-42f6-be26-7bcb78096ea2"
   },
   "outputs": [
    {
     "data": {
      "text/html": [
       "\n",
       "  <div id=\"df-1f0d09dc-08ba-4fae-afd0-25a51bb8198c\" class=\"colab-df-container\">\n",
       "    <div>\n",
       "<style scoped>\n",
       "    .dataframe tbody tr th:only-of-type {\n",
       "        vertical-align: middle;\n",
       "    }\n",
       "\n",
       "    .dataframe tbody tr th {\n",
       "        vertical-align: top;\n",
       "    }\n",
       "\n",
       "    .dataframe thead th {\n",
       "        text-align: right;\n",
       "    }\n",
       "</style>\n",
       "<table border=\"1\" class=\"dataframe\">\n",
       "  <thead>\n",
       "    <tr style=\"text-align: right;\">\n",
       "      <th></th>\n",
       "      <th>Temperature (C)</th>\n",
       "      <th>Apparent Temperature (C)</th>\n",
       "      <th>Humidity</th>\n",
       "      <th>Wind Bearing (degrees)</th>\n",
       "      <th>Visibility (km)</th>\n",
       "      <th>Pressure (millibars)</th>\n",
       "      <th>Wind Speed (km/h)</th>\n",
       "    </tr>\n",
       "  </thead>\n",
       "  <tbody>\n",
       "    <tr>\n",
       "      <th>0</th>\n",
       "      <td>9.472222</td>\n",
       "      <td>7.388889</td>\n",
       "      <td>0.89</td>\n",
       "      <td>251</td>\n",
       "      <td>15.8263</td>\n",
       "      <td>1015.13</td>\n",
       "      <td>14.1197</td>\n",
       "    </tr>\n",
       "    <tr>\n",
       "      <th>1</th>\n",
       "      <td>9.355556</td>\n",
       "      <td>7.227778</td>\n",
       "      <td>0.86</td>\n",
       "      <td>259</td>\n",
       "      <td>15.8263</td>\n",
       "      <td>1015.63</td>\n",
       "      <td>14.2646</td>\n",
       "    </tr>\n",
       "    <tr>\n",
       "      <th>2</th>\n",
       "      <td>9.377778</td>\n",
       "      <td>9.377778</td>\n",
       "      <td>0.89</td>\n",
       "      <td>204</td>\n",
       "      <td>14.9569</td>\n",
       "      <td>1015.94</td>\n",
       "      <td>3.9284</td>\n",
       "    </tr>\n",
       "    <tr>\n",
       "      <th>3</th>\n",
       "      <td>8.288889</td>\n",
       "      <td>5.944444</td>\n",
       "      <td>0.83</td>\n",
       "      <td>269</td>\n",
       "      <td>15.8263</td>\n",
       "      <td>1016.41</td>\n",
       "      <td>14.1036</td>\n",
       "    </tr>\n",
       "    <tr>\n",
       "      <th>4</th>\n",
       "      <td>8.755556</td>\n",
       "      <td>6.977778</td>\n",
       "      <td>0.83</td>\n",
       "      <td>259</td>\n",
       "      <td>15.8263</td>\n",
       "      <td>1016.51</td>\n",
       "      <td>11.0446</td>\n",
       "    </tr>\n",
       "  </tbody>\n",
       "</table>\n",
       "</div>\n",
       "    <div class=\"colab-df-buttons\">\n",
       "\n",
       "  <div class=\"colab-df-container\">\n",
       "    <button class=\"colab-df-convert\" onclick=\"convertToInteractive('df-1f0d09dc-08ba-4fae-afd0-25a51bb8198c')\"\n",
       "            title=\"Convert this dataframe to an interactive table.\"\n",
       "            style=\"display:none;\">\n",
       "\n",
       "  <svg xmlns=\"http://www.w3.org/2000/svg\" height=\"24px\" viewBox=\"0 -960 960 960\">\n",
       "    <path d=\"M120-120v-720h720v720H120Zm60-500h600v-160H180v160Zm220 220h160v-160H400v160Zm0 220h160v-160H400v160ZM180-400h160v-160H180v160Zm440 0h160v-160H620v160ZM180-180h160v-160H180v160Zm440 0h160v-160H620v160Z\"/>\n",
       "  </svg>\n",
       "    </button>\n",
       "\n",
       "  <style>\n",
       "    .colab-df-container {\n",
       "      display:flex;\n",
       "      gap: 12px;\n",
       "    }\n",
       "\n",
       "    .colab-df-convert {\n",
       "      background-color: #E8F0FE;\n",
       "      border: none;\n",
       "      border-radius: 50%;\n",
       "      cursor: pointer;\n",
       "      display: none;\n",
       "      fill: #1967D2;\n",
       "      height: 32px;\n",
       "      padding: 0 0 0 0;\n",
       "      width: 32px;\n",
       "    }\n",
       "\n",
       "    .colab-df-convert:hover {\n",
       "      background-color: #E2EBFA;\n",
       "      box-shadow: 0px 1px 2px rgba(60, 64, 67, 0.3), 0px 1px 3px 1px rgba(60, 64, 67, 0.15);\n",
       "      fill: #174EA6;\n",
       "    }\n",
       "\n",
       "    .colab-df-buttons div {\n",
       "      margin-bottom: 4px;\n",
       "    }\n",
       "\n",
       "    [theme=dark] .colab-df-convert {\n",
       "      background-color: #3B4455;\n",
       "      fill: #D2E3FC;\n",
       "    }\n",
       "\n",
       "    [theme=dark] .colab-df-convert:hover {\n",
       "      background-color: #434B5C;\n",
       "      box-shadow: 0px 1px 3px 1px rgba(0, 0, 0, 0.15);\n",
       "      filter: drop-shadow(0px 1px 2px rgba(0, 0, 0, 0.3));\n",
       "      fill: #FFFFFF;\n",
       "    }\n",
       "  </style>\n",
       "\n",
       "    <script>\n",
       "      const buttonEl =\n",
       "        document.querySelector('#df-1f0d09dc-08ba-4fae-afd0-25a51bb8198c button.colab-df-convert');\n",
       "      buttonEl.style.display =\n",
       "        google.colab.kernel.accessAllowed ? 'block' : 'none';\n",
       "\n",
       "      async function convertToInteractive(key) {\n",
       "        const element = document.querySelector('#df-1f0d09dc-08ba-4fae-afd0-25a51bb8198c');\n",
       "        const dataTable =\n",
       "          await google.colab.kernel.invokeFunction('convertToInteractive',\n",
       "                                                    [key], {});\n",
       "        if (!dataTable) return;\n",
       "\n",
       "        const docLinkHtml = 'Like what you see? Visit the ' +\n",
       "          '<a target=\"_blank\" href=https://colab.research.google.com/notebooks/data_table.ipynb>data table notebook</a>'\n",
       "          + ' to learn more about interactive tables.';\n",
       "        element.innerHTML = '';\n",
       "        dataTable['output_type'] = 'display_data';\n",
       "        await google.colab.output.renderOutput(dataTable, element);\n",
       "        const docLink = document.createElement('div');\n",
       "        docLink.innerHTML = docLinkHtml;\n",
       "        element.appendChild(docLink);\n",
       "      }\n",
       "    </script>\n",
       "  </div>\n",
       "\n",
       "\n",
       "<div id=\"df-1b62ee2c-7cc3-4bab-843d-0d5a1e80eb37\">\n",
       "  <button class=\"colab-df-quickchart\" onclick=\"quickchart('df-1b62ee2c-7cc3-4bab-843d-0d5a1e80eb37')\"\n",
       "            title=\"Suggest charts\"\n",
       "            style=\"display:none;\">\n",
       "\n",
       "<svg xmlns=\"http://www.w3.org/2000/svg\" height=\"24px\"viewBox=\"0 0 24 24\"\n",
       "     width=\"24px\">\n",
       "    <g>\n",
       "        <path d=\"M19 3H5c-1.1 0-2 .9-2 2v14c0 1.1.9 2 2 2h14c1.1 0 2-.9 2-2V5c0-1.1-.9-2-2-2zM9 17H7v-7h2v7zm4 0h-2V7h2v10zm4 0h-2v-4h2v4z\"/>\n",
       "    </g>\n",
       "</svg>\n",
       "  </button>\n",
       "\n",
       "<style>\n",
       "  .colab-df-quickchart {\n",
       "      --bg-color: #E8F0FE;\n",
       "      --fill-color: #1967D2;\n",
       "      --hover-bg-color: #E2EBFA;\n",
       "      --hover-fill-color: #174EA6;\n",
       "      --disabled-fill-color: #AAA;\n",
       "      --disabled-bg-color: #DDD;\n",
       "  }\n",
       "\n",
       "  [theme=dark] .colab-df-quickchart {\n",
       "      --bg-color: #3B4455;\n",
       "      --fill-color: #D2E3FC;\n",
       "      --hover-bg-color: #434B5C;\n",
       "      --hover-fill-color: #FFFFFF;\n",
       "      --disabled-bg-color: #3B4455;\n",
       "      --disabled-fill-color: #666;\n",
       "  }\n",
       "\n",
       "  .colab-df-quickchart {\n",
       "    background-color: var(--bg-color);\n",
       "    border: none;\n",
       "    border-radius: 50%;\n",
       "    cursor: pointer;\n",
       "    display: none;\n",
       "    fill: var(--fill-color);\n",
       "    height: 32px;\n",
       "    padding: 0;\n",
       "    width: 32px;\n",
       "  }\n",
       "\n",
       "  .colab-df-quickchart:hover {\n",
       "    background-color: var(--hover-bg-color);\n",
       "    box-shadow: 0 1px 2px rgba(60, 64, 67, 0.3), 0 1px 3px 1px rgba(60, 64, 67, 0.15);\n",
       "    fill: var(--button-hover-fill-color);\n",
       "  }\n",
       "\n",
       "  .colab-df-quickchart-complete:disabled,\n",
       "  .colab-df-quickchart-complete:disabled:hover {\n",
       "    background-color: var(--disabled-bg-color);\n",
       "    fill: var(--disabled-fill-color);\n",
       "    box-shadow: none;\n",
       "  }\n",
       "\n",
       "  .colab-df-spinner {\n",
       "    border: 2px solid var(--fill-color);\n",
       "    border-color: transparent;\n",
       "    border-bottom-color: var(--fill-color);\n",
       "    animation:\n",
       "      spin 1s steps(1) infinite;\n",
       "  }\n",
       "\n",
       "  @keyframes spin {\n",
       "    0% {\n",
       "      border-color: transparent;\n",
       "      border-bottom-color: var(--fill-color);\n",
       "      border-left-color: var(--fill-color);\n",
       "    }\n",
       "    20% {\n",
       "      border-color: transparent;\n",
       "      border-left-color: var(--fill-color);\n",
       "      border-top-color: var(--fill-color);\n",
       "    }\n",
       "    30% {\n",
       "      border-color: transparent;\n",
       "      border-left-color: var(--fill-color);\n",
       "      border-top-color: var(--fill-color);\n",
       "      border-right-color: var(--fill-color);\n",
       "    }\n",
       "    40% {\n",
       "      border-color: transparent;\n",
       "      border-right-color: var(--fill-color);\n",
       "      border-top-color: var(--fill-color);\n",
       "    }\n",
       "    60% {\n",
       "      border-color: transparent;\n",
       "      border-right-color: var(--fill-color);\n",
       "    }\n",
       "    80% {\n",
       "      border-color: transparent;\n",
       "      border-right-color: var(--fill-color);\n",
       "      border-bottom-color: var(--fill-color);\n",
       "    }\n",
       "    90% {\n",
       "      border-color: transparent;\n",
       "      border-bottom-color: var(--fill-color);\n",
       "    }\n",
       "  }\n",
       "</style>\n",
       "\n",
       "  <script>\n",
       "    async function quickchart(key) {\n",
       "      const quickchartButtonEl =\n",
       "        document.querySelector('#' + key + ' button');\n",
       "      quickchartButtonEl.disabled = true;  // To prevent multiple clicks.\n",
       "      quickchartButtonEl.classList.add('colab-df-spinner');\n",
       "      try {\n",
       "        const charts = await google.colab.kernel.invokeFunction(\n",
       "            'suggestCharts', [key], {});\n",
       "      } catch (error) {\n",
       "        console.error('Error during call to suggestCharts:', error);\n",
       "      }\n",
       "      quickchartButtonEl.classList.remove('colab-df-spinner');\n",
       "      quickchartButtonEl.classList.add('colab-df-quickchart-complete');\n",
       "    }\n",
       "    (() => {\n",
       "      let quickchartButtonEl =\n",
       "        document.querySelector('#df-1b62ee2c-7cc3-4bab-843d-0d5a1e80eb37 button');\n",
       "      quickchartButtonEl.style.display =\n",
       "        google.colab.kernel.accessAllowed ? 'block' : 'none';\n",
       "    })();\n",
       "  </script>\n",
       "</div>\n",
       "    </div>\n",
       "  </div>\n"
      ],
      "text/plain": [
       "   Temperature (C)  Apparent Temperature (C)  Humidity  \\\n",
       "0         9.472222                  7.388889      0.89   \n",
       "1         9.355556                  7.227778      0.86   \n",
       "2         9.377778                  9.377778      0.89   \n",
       "3         8.288889                  5.944444      0.83   \n",
       "4         8.755556                  6.977778      0.83   \n",
       "\n",
       "   Wind Bearing (degrees)  Visibility (km)  Pressure (millibars)  \\\n",
       "0                     251          15.8263               1015.13   \n",
       "1                     259          15.8263               1015.63   \n",
       "2                     204          14.9569               1015.94   \n",
       "3                     269          15.8263               1016.41   \n",
       "4                     259          15.8263               1016.51   \n",
       "\n",
       "   Wind Speed (km/h)  \n",
       "0            14.1197  \n",
       "1            14.2646  \n",
       "2             3.9284  \n",
       "3            14.1036  \n",
       "4            11.0446  "
      ]
     },
     "execution_count": 35,
     "metadata": {},
     "output_type": "execute_result"
    }
   ],
   "source": [
    "data.head()"
   ]
  },
  {
   "cell_type": "markdown",
   "id": "clFYWls7DFrJ",
   "metadata": {
    "id": "clFYWls7DFrJ"
   },
   "source": [
    "rename headers for easy accessing"
   ]
  },
  {
   "cell_type": "code",
   "execution_count": 4,
   "id": "1db05ceb",
   "metadata": {
    "executionInfo": {
     "elapsed": 7,
     "status": "ok",
     "timestamp": 1699890492949,
     "user": {
      "displayName": "alireza nemati",
      "userId": "14897435393400076413"
     },
     "user_tz": -210
    },
    "id": "1db05ceb"
   },
   "outputs": [],
   "source": [
    "data=data.rename(columns={\"Temperature (C)\": \"temp\", \"Wind Bearing (degrees)\": \"wind_bear\",\"Visibility (km)\":\"visible\",\"Apparent Temperature (C)\":\"app_temp\",\"Pressure (millibars)\":\"press\",\"Wind Speed (km/h)\":\"wind_speed\"})"
   ]
  },
  {
   "cell_type": "markdown",
   "id": "E7N8183sDCs4",
   "metadata": {
    "id": "E7N8183sDCs4"
   },
   "source": []
  },
  {
   "cell_type": "code",
   "execution_count": 35,
   "id": "575096c9",
   "metadata": {
    "colab": {
     "base_uri": "https://localhost:8080/",
     "height": 300
    },
    "executionInfo": {
     "elapsed": 633,
     "status": "ok",
     "timestamp": 1699901093624,
     "user": {
      "displayName": "alireza nemati",
      "userId": "14897435393400076413"
     },
     "user_tz": -210
    },
    "id": "575096c9",
    "outputId": "dce3c35c-c7f6-4308-d8a3-874c442cbd8f",
    "scrolled": true
   },
   "outputs": [
    {
     "data": {
      "text/html": [
       "\n",
       "  <div id=\"df-db546e57-03ce-4376-ba06-997aed0947cd\" class=\"colab-df-container\">\n",
       "    <div>\n",
       "<style scoped>\n",
       "    .dataframe tbody tr th:only-of-type {\n",
       "        vertical-align: middle;\n",
       "    }\n",
       "\n",
       "    .dataframe tbody tr th {\n",
       "        vertical-align: top;\n",
       "    }\n",
       "\n",
       "    .dataframe thead th {\n",
       "        text-align: right;\n",
       "    }\n",
       "</style>\n",
       "<table border=\"1\" class=\"dataframe\">\n",
       "  <thead>\n",
       "    <tr style=\"text-align: right;\">\n",
       "      <th></th>\n",
       "      <th>temp</th>\n",
       "      <th>app_temp</th>\n",
       "      <th>Humidity</th>\n",
       "      <th>wind_bear</th>\n",
       "      <th>visible</th>\n",
       "      <th>press</th>\n",
       "      <th>wind_speed</th>\n",
       "    </tr>\n",
       "  </thead>\n",
       "  <tbody>\n",
       "    <tr>\n",
       "      <th>count</th>\n",
       "      <td>96453.000000</td>\n",
       "      <td>96453.000000</td>\n",
       "      <td>96453.000000</td>\n",
       "      <td>96453.000000</td>\n",
       "      <td>96453.000000</td>\n",
       "      <td>96453.000000</td>\n",
       "      <td>96453.000000</td>\n",
       "    </tr>\n",
       "    <tr>\n",
       "      <th>mean</th>\n",
       "      <td>11.932678</td>\n",
       "      <td>10.855029</td>\n",
       "      <td>0.734899</td>\n",
       "      <td>187.509232</td>\n",
       "      <td>10.347325</td>\n",
       "      <td>1003.235956</td>\n",
       "      <td>10.810640</td>\n",
       "    </tr>\n",
       "    <tr>\n",
       "      <th>std</th>\n",
       "      <td>9.551546</td>\n",
       "      <td>10.696847</td>\n",
       "      <td>0.195473</td>\n",
       "      <td>107.383428</td>\n",
       "      <td>4.192123</td>\n",
       "      <td>116.969906</td>\n",
       "      <td>6.913571</td>\n",
       "    </tr>\n",
       "    <tr>\n",
       "      <th>min</th>\n",
       "      <td>-21.822222</td>\n",
       "      <td>-27.716667</td>\n",
       "      <td>0.000000</td>\n",
       "      <td>0.000000</td>\n",
       "      <td>0.000000</td>\n",
       "      <td>0.000000</td>\n",
       "      <td>0.000000</td>\n",
       "    </tr>\n",
       "    <tr>\n",
       "      <th>25%</th>\n",
       "      <td>4.688889</td>\n",
       "      <td>2.311111</td>\n",
       "      <td>0.600000</td>\n",
       "      <td>116.000000</td>\n",
       "      <td>8.339800</td>\n",
       "      <td>1011.900000</td>\n",
       "      <td>5.828200</td>\n",
       "    </tr>\n",
       "    <tr>\n",
       "      <th>50%</th>\n",
       "      <td>12.000000</td>\n",
       "      <td>12.000000</td>\n",
       "      <td>0.780000</td>\n",
       "      <td>180.000000</td>\n",
       "      <td>10.046400</td>\n",
       "      <td>1016.450000</td>\n",
       "      <td>9.965900</td>\n",
       "    </tr>\n",
       "    <tr>\n",
       "      <th>75%</th>\n",
       "      <td>18.838889</td>\n",
       "      <td>18.838889</td>\n",
       "      <td>0.890000</td>\n",
       "      <td>290.000000</td>\n",
       "      <td>14.812000</td>\n",
       "      <td>1021.090000</td>\n",
       "      <td>14.135800</td>\n",
       "    </tr>\n",
       "    <tr>\n",
       "      <th>max</th>\n",
       "      <td>39.905556</td>\n",
       "      <td>39.344444</td>\n",
       "      <td>1.000000</td>\n",
       "      <td>359.000000</td>\n",
       "      <td>16.100000</td>\n",
       "      <td>1046.380000</td>\n",
       "      <td>63.852600</td>\n",
       "    </tr>\n",
       "  </tbody>\n",
       "</table>\n",
       "</div>\n",
       "    <div class=\"colab-df-buttons\">\n",
       "\n",
       "  <div class=\"colab-df-container\">\n",
       "    <button class=\"colab-df-convert\" onclick=\"convertToInteractive('df-db546e57-03ce-4376-ba06-997aed0947cd')\"\n",
       "            title=\"Convert this dataframe to an interactive table.\"\n",
       "            style=\"display:none;\">\n",
       "\n",
       "  <svg xmlns=\"http://www.w3.org/2000/svg\" height=\"24px\" viewBox=\"0 -960 960 960\">\n",
       "    <path d=\"M120-120v-720h720v720H120Zm60-500h600v-160H180v160Zm220 220h160v-160H400v160Zm0 220h160v-160H400v160ZM180-400h160v-160H180v160Zm440 0h160v-160H620v160ZM180-180h160v-160H180v160Zm440 0h160v-160H620v160Z\"/>\n",
       "  </svg>\n",
       "    </button>\n",
       "\n",
       "  <style>\n",
       "    .colab-df-container {\n",
       "      display:flex;\n",
       "      gap: 12px;\n",
       "    }\n",
       "\n",
       "    .colab-df-convert {\n",
       "      background-color: #E8F0FE;\n",
       "      border: none;\n",
       "      border-radius: 50%;\n",
       "      cursor: pointer;\n",
       "      display: none;\n",
       "      fill: #1967D2;\n",
       "      height: 32px;\n",
       "      padding: 0 0 0 0;\n",
       "      width: 32px;\n",
       "    }\n",
       "\n",
       "    .colab-df-convert:hover {\n",
       "      background-color: #E2EBFA;\n",
       "      box-shadow: 0px 1px 2px rgba(60, 64, 67, 0.3), 0px 1px 3px 1px rgba(60, 64, 67, 0.15);\n",
       "      fill: #174EA6;\n",
       "    }\n",
       "\n",
       "    .colab-df-buttons div {\n",
       "      margin-bottom: 4px;\n",
       "    }\n",
       "\n",
       "    [theme=dark] .colab-df-convert {\n",
       "      background-color: #3B4455;\n",
       "      fill: #D2E3FC;\n",
       "    }\n",
       "\n",
       "    [theme=dark] .colab-df-convert:hover {\n",
       "      background-color: #434B5C;\n",
       "      box-shadow: 0px 1px 3px 1px rgba(0, 0, 0, 0.15);\n",
       "      filter: drop-shadow(0px 1px 2px rgba(0, 0, 0, 0.3));\n",
       "      fill: #FFFFFF;\n",
       "    }\n",
       "  </style>\n",
       "\n",
       "    <script>\n",
       "      const buttonEl =\n",
       "        document.querySelector('#df-db546e57-03ce-4376-ba06-997aed0947cd button.colab-df-convert');\n",
       "      buttonEl.style.display =\n",
       "        google.colab.kernel.accessAllowed ? 'block' : 'none';\n",
       "\n",
       "      async function convertToInteractive(key) {\n",
       "        const element = document.querySelector('#df-db546e57-03ce-4376-ba06-997aed0947cd');\n",
       "        const dataTable =\n",
       "          await google.colab.kernel.invokeFunction('convertToInteractive',\n",
       "                                                    [key], {});\n",
       "        if (!dataTable) return;\n",
       "\n",
       "        const docLinkHtml = 'Like what you see? Visit the ' +\n",
       "          '<a target=\"_blank\" href=https://colab.research.google.com/notebooks/data_table.ipynb>data table notebook</a>'\n",
       "          + ' to learn more about interactive tables.';\n",
       "        element.innerHTML = '';\n",
       "        dataTable['output_type'] = 'display_data';\n",
       "        await google.colab.output.renderOutput(dataTable, element);\n",
       "        const docLink = document.createElement('div');\n",
       "        docLink.innerHTML = docLinkHtml;\n",
       "        element.appendChild(docLink);\n",
       "      }\n",
       "    </script>\n",
       "  </div>\n",
       "\n",
       "\n",
       "<div id=\"df-24f74ee2-9619-421a-917d-3dda67b83b5f\">\n",
       "  <button class=\"colab-df-quickchart\" onclick=\"quickchart('df-24f74ee2-9619-421a-917d-3dda67b83b5f')\"\n",
       "            title=\"Suggest charts\"\n",
       "            style=\"display:none;\">\n",
       "\n",
       "<svg xmlns=\"http://www.w3.org/2000/svg\" height=\"24px\"viewBox=\"0 0 24 24\"\n",
       "     width=\"24px\">\n",
       "    <g>\n",
       "        <path d=\"M19 3H5c-1.1 0-2 .9-2 2v14c0 1.1.9 2 2 2h14c1.1 0 2-.9 2-2V5c0-1.1-.9-2-2-2zM9 17H7v-7h2v7zm4 0h-2V7h2v10zm4 0h-2v-4h2v4z\"/>\n",
       "    </g>\n",
       "</svg>\n",
       "  </button>\n",
       "\n",
       "<style>\n",
       "  .colab-df-quickchart {\n",
       "      --bg-color: #E8F0FE;\n",
       "      --fill-color: #1967D2;\n",
       "      --hover-bg-color: #E2EBFA;\n",
       "      --hover-fill-color: #174EA6;\n",
       "      --disabled-fill-color: #AAA;\n",
       "      --disabled-bg-color: #DDD;\n",
       "  }\n",
       "\n",
       "  [theme=dark] .colab-df-quickchart {\n",
       "      --bg-color: #3B4455;\n",
       "      --fill-color: #D2E3FC;\n",
       "      --hover-bg-color: #434B5C;\n",
       "      --hover-fill-color: #FFFFFF;\n",
       "      --disabled-bg-color: #3B4455;\n",
       "      --disabled-fill-color: #666;\n",
       "  }\n",
       "\n",
       "  .colab-df-quickchart {\n",
       "    background-color: var(--bg-color);\n",
       "    border: none;\n",
       "    border-radius: 50%;\n",
       "    cursor: pointer;\n",
       "    display: none;\n",
       "    fill: var(--fill-color);\n",
       "    height: 32px;\n",
       "    padding: 0;\n",
       "    width: 32px;\n",
       "  }\n",
       "\n",
       "  .colab-df-quickchart:hover {\n",
       "    background-color: var(--hover-bg-color);\n",
       "    box-shadow: 0 1px 2px rgba(60, 64, 67, 0.3), 0 1px 3px 1px rgba(60, 64, 67, 0.15);\n",
       "    fill: var(--button-hover-fill-color);\n",
       "  }\n",
       "\n",
       "  .colab-df-quickchart-complete:disabled,\n",
       "  .colab-df-quickchart-complete:disabled:hover {\n",
       "    background-color: var(--disabled-bg-color);\n",
       "    fill: var(--disabled-fill-color);\n",
       "    box-shadow: none;\n",
       "  }\n",
       "\n",
       "  .colab-df-spinner {\n",
       "    border: 2px solid var(--fill-color);\n",
       "    border-color: transparent;\n",
       "    border-bottom-color: var(--fill-color);\n",
       "    animation:\n",
       "      spin 1s steps(1) infinite;\n",
       "  }\n",
       "\n",
       "  @keyframes spin {\n",
       "    0% {\n",
       "      border-color: transparent;\n",
       "      border-bottom-color: var(--fill-color);\n",
       "      border-left-color: var(--fill-color);\n",
       "    }\n",
       "    20% {\n",
       "      border-color: transparent;\n",
       "      border-left-color: var(--fill-color);\n",
       "      border-top-color: var(--fill-color);\n",
       "    }\n",
       "    30% {\n",
       "      border-color: transparent;\n",
       "      border-left-color: var(--fill-color);\n",
       "      border-top-color: var(--fill-color);\n",
       "      border-right-color: var(--fill-color);\n",
       "    }\n",
       "    40% {\n",
       "      border-color: transparent;\n",
       "      border-right-color: var(--fill-color);\n",
       "      border-top-color: var(--fill-color);\n",
       "    }\n",
       "    60% {\n",
       "      border-color: transparent;\n",
       "      border-right-color: var(--fill-color);\n",
       "    }\n",
       "    80% {\n",
       "      border-color: transparent;\n",
       "      border-right-color: var(--fill-color);\n",
       "      border-bottom-color: var(--fill-color);\n",
       "    }\n",
       "    90% {\n",
       "      border-color: transparent;\n",
       "      border-bottom-color: var(--fill-color);\n",
       "    }\n",
       "  }\n",
       "</style>\n",
       "\n",
       "  <script>\n",
       "    async function quickchart(key) {\n",
       "      const quickchartButtonEl =\n",
       "        document.querySelector('#' + key + ' button');\n",
       "      quickchartButtonEl.disabled = true;  // To prevent multiple clicks.\n",
       "      quickchartButtonEl.classList.add('colab-df-spinner');\n",
       "      try {\n",
       "        const charts = await google.colab.kernel.invokeFunction(\n",
       "            'suggestCharts', [key], {});\n",
       "      } catch (error) {\n",
       "        console.error('Error during call to suggestCharts:', error);\n",
       "      }\n",
       "      quickchartButtonEl.classList.remove('colab-df-spinner');\n",
       "      quickchartButtonEl.classList.add('colab-df-quickchart-complete');\n",
       "    }\n",
       "    (() => {\n",
       "      let quickchartButtonEl =\n",
       "        document.querySelector('#df-24f74ee2-9619-421a-917d-3dda67b83b5f button');\n",
       "      quickchartButtonEl.style.display =\n",
       "        google.colab.kernel.accessAllowed ? 'block' : 'none';\n",
       "    })();\n",
       "  </script>\n",
       "</div>\n",
       "    </div>\n",
       "  </div>\n"
      ],
      "text/plain": [
       "               temp      app_temp      Humidity     wind_bear       visible  \\\n",
       "count  96453.000000  96453.000000  96453.000000  96453.000000  96453.000000   \n",
       "mean      11.932678     10.855029      0.734899    187.509232     10.347325   \n",
       "std        9.551546     10.696847      0.195473    107.383428      4.192123   \n",
       "min      -21.822222    -27.716667      0.000000      0.000000      0.000000   \n",
       "25%        4.688889      2.311111      0.600000    116.000000      8.339800   \n",
       "50%       12.000000     12.000000      0.780000    180.000000     10.046400   \n",
       "75%       18.838889     18.838889      0.890000    290.000000     14.812000   \n",
       "max       39.905556     39.344444      1.000000    359.000000     16.100000   \n",
       "\n",
       "              press    wind_speed  \n",
       "count  96453.000000  96453.000000  \n",
       "mean    1003.235956     10.810640  \n",
       "std      116.969906      6.913571  \n",
       "min        0.000000      0.000000  \n",
       "25%     1011.900000      5.828200  \n",
       "50%     1016.450000      9.965900  \n",
       "75%     1021.090000     14.135800  \n",
       "max     1046.380000     63.852600  "
      ]
     },
     "execution_count": 35,
     "metadata": {},
     "output_type": "execute_result"
    }
   ],
   "source": [
    "data.describe()"
   ]
  },
  {
   "cell_type": "code",
   "execution_count": 36,
   "id": "408030aa",
   "metadata": {
    "colab": {
     "base_uri": "https://localhost:8080/",
     "height": 449
    },
    "executionInfo": {
     "elapsed": 853,
     "status": "ok",
     "timestamp": 1699901095062,
     "user": {
      "displayName": "alireza nemati",
      "userId": "14897435393400076413"
     },
     "user_tz": -210
    },
    "id": "408030aa",
    "outputId": "acdcd7c1-4984-4476-9277-a225d2935a37"
   },
   "outputs": [
    {
     "data": {
      "image/png": "[encoded data removed]",
      "text/plain": [
       "<Figure size 640x480 with 1 Axes>"
      ]
     },
     "metadata": {},
     "output_type": "display_data"
    }
   ],
   "source": [
    "plt.scatter(data.temp, data.Humidity,  color='gray')\n",
    "plt.xlabel(\"Temperature (C)\")\n",
    "plt.ylabel(\"Humidity\")\n",
    "plt.show()"
   ]
  },
  {
   "cell_type": "code",
   "execution_count": 37,
   "id": "ce10b4f0",
   "metadata": {
    "colab": {
     "base_uri": "https://localhost:8080/",
     "height": 449
    },
    "executionInfo": {
     "elapsed": 14,
     "status": "ok",
     "timestamp": 1699901096767,
     "user": {
      "displayName": "alireza nemati",
      "userId": "14897435393400076413"
     },
     "user_tz": -210
    },
    "id": "ce10b4f0",
    "outputId": "7fcb8304-59db-4b1c-b97a-5db1bacd19b2"
   },
   "outputs": [
    {
     "data": {
      "image/png": "[encoded data removed]",
      "text/plain": [
       "<Figure size 640x480 with 1 Axes>"
      ]
     },
     "metadata": {},
     "output_type": "display_data"
    }
   ],
   "source": [
    "plt.scatter(data.temp, data.app_temp,  color='cyan')\n",
    "plt.xlabel(\"Temperature (C)\")\n",
    "plt.ylabel(\"Apparent Temperature (C)\")\n",
    "plt.show()"
   ]
  },
  {
   "cell_type": "code",
   "execution_count": 38,
   "id": "4216bc3c",
   "metadata": {
    "colab": {
     "base_uri": "https://localhost:8080/",
     "height": 449
    },
    "executionInfo": {
     "elapsed": 888,
     "status": "ok",
     "timestamp": 1699901097644,
     "user": {
      "displayName": "alireza nemati",
      "userId": "14897435393400076413"
     },
     "user_tz": -210
    },
    "id": "4216bc3c",
    "outputId": "2f97d578-4420-4e20-95e6-3690852ea436"
   },
   "outputs": [
    {
     "data": {
      "image/png": "[encoded data removed]",
      "text/plain": [
       "<Figure size 640x480 with 1 Axes>"
      ]
     },
     "metadata": {},
     "output_type": "display_data"
    }
   ],
   "source": [
    "plt.scatter(data.temp, data.wind_bear,  color='blue')\n",
    "plt.xlabel(\"Temperature (C)\")\n",
    "plt.ylabel(\"Wind Bearing (degrees)\")\n",
    "plt.show()"
   ]
  },
  {
   "cell_type": "code",
   "execution_count": 39,
   "id": "43f37a01",
   "metadata": {
    "colab": {
     "base_uri": "https://localhost:8080/",
     "height": 449
    },
    "executionInfo": {
     "elapsed": 1365,
     "status": "ok",
     "timestamp": 1699901099005,
     "user": {
      "displayName": "alireza nemati",
      "userId": "14897435393400076413"
     },
     "user_tz": -210
    },
    "id": "43f37a01",
    "outputId": "15475ad6-a12b-4b79-c99a-ba1a8cc41ab9"
   },
   "outputs": [
    {
     "data": {
      "image/png": "[encoded data removed]",
      "text/plain": [
       "<Figure size 640x480 with 1 Axes>"
      ]
     },
     "metadata": {},
     "output_type": "display_data"
    }
   ],
   "source": [
    "plt.scatter(data.temp, data.visible,  color='brown')\n",
    "plt.xlabel(\"Temperature (C)\")\n",
    "plt.ylabel(\"Visibility (km)\")\n",
    "plt.show()"
   ]
  },
  {
   "cell_type": "code",
   "execution_count": 40,
   "id": "19114ea2",
   "metadata": {
    "colab": {
     "base_uri": "https://localhost:8080/",
     "height": 449
    },
    "executionInfo": {
     "elapsed": 11,
     "status": "ok",
     "timestamp": 1699901099006,
     "user": {
      "displayName": "alireza nemati",
      "userId": "14897435393400076413"
     },
     "user_tz": -210
    },
    "id": "19114ea2",
    "outputId": "3ffd9826-3b6f-4a45-f961-0f117fb78f8b"
   },
   "outputs": [
    {
     "data": {
      "image/png": "[encoded data removed]",
      "text/plain": [
       "<Figure size 640x480 with 1 Axes>"
      ]
     },
     "metadata": {},
     "output_type": "display_data"
    }
   ],
   "source": [
    "plt.scatter(data.temp, data.press,  color='gray')\n",
    "plt.xlabel(\"Temperature (C)\")\n",
    "plt.ylabel(\"Pressure (millibars)\")\n",
    "plt.show()"
   ]
  },
  {
   "cell_type": "code",
   "execution_count": 41,
   "id": "38a63f79",
   "metadata": {
    "colab": {
     "base_uri": "https://localhost:8080/",
     "height": 449
    },
    "executionInfo": {
     "elapsed": 10,
     "status": "ok",
     "timestamp": 1699901099006,
     "user": {
      "displayName": "alireza nemati",
      "userId": "14897435393400076413"
     },
     "user_tz": -210
    },
    "id": "38a63f79",
    "outputId": "d0406e8a-7cc3-4a34-962e-094bee14a24d",
    "scrolled": true
   },
   "outputs": [
    {
     "data": {
      "image/png": "[encoded data removed]",
      "text/plain": [
       "<Figure size 640x480 with 1 Axes>"
      ]
     },
     "metadata": {},
     "output_type": "display_data"
    }
   ],
   "source": [
    "plt.scatter(data.temp, data.wind_speed,  color='pink')\n",
    "plt.xlabel(\"Temperature (C)\")\n",
    "plt.ylabel(\"Wind Speed (km/h)\")\n",
    "plt.show()"
   ]
  },
  {
   "cell_type": "markdown",
   "id": "tGuWOFCKDXaJ",
   "metadata": {
    "id": "tGuWOFCKDXaJ"
   },
   "source": [
    "# Separate the features and the target variable"
   ]
  },
  {
   "cell_type": "code",
   "execution_count": 5,
   "id": "PNrHc4Zfb3jr",
   "metadata": {
    "colab": {
     "base_uri": "https://localhost:8080/"
    },
    "executionInfo": {
     "elapsed": 557,
     "status": "ok",
     "timestamp": 1699890506818,
     "user": {
      "displayName": "alireza nemati",
      "userId": "14897435393400076413"
     },
     "user_tz": -210
    },
    "id": "PNrHc4Zfb3jr",
    "outputId": "5f15d17a-b653-421e-bbca-37d260ac5ef1"
   },
   "outputs": [
    {
     "name": "stdout",
     "output_type": "stream",
     "text": [
      "<class 'pandas.core.frame.DataFrame'>\n"
     ]
    }
   ],
   "source": [
    "# Separate the features and the target variable\n",
    "features = data.drop('temp', axis=1)\n",
    "print(type(features))\n",
    "target = data['temp']"
   ]
  },
  {
   "cell_type": "markdown",
   "id": "3du5LsIDDdGo",
   "metadata": {
    "id": "3du5LsIDDdGo"
   },
   "source": [
    "# Standardize the features"
   ]
  },
  {
   "cell_type": "code",
   "execution_count": 6,
   "id": "CY8c5ANWb3v9",
   "metadata": {
    "executionInfo": {
     "elapsed": 7,
     "status": "ok",
     "timestamp": 1699890506819,
     "user": {
      "displayName": "alireza nemati",
      "userId": "14897435393400076413"
     },
     "user_tz": -210
    },
    "id": "CY8c5ANWb3v9"
   },
   "outputs": [],
   "source": [
    "\n",
    "scaler = StandardScaler()\n",
    "features_standardized = scaler.fit_transform(features)"
   ]
  },
  {
   "cell_type": "markdown",
   "id": "9B-mYAqIDiJB",
   "metadata": {
    "id": "9B-mYAqIDiJB"
   },
   "source": [
    " Split the data into training and test sets"
   ]
  },
  {
   "cell_type": "code",
   "execution_count": 11,
   "id": "S1BzW303b38E",
   "metadata": {
    "colab": {
     "base_uri": "https://localhost:8080/"
    },
    "executionInfo": {
     "elapsed": 10,
     "status": "ok",
     "timestamp": 1699890537789,
     "user": {
      "displayName": "alireza nemati",
      "userId": "14897435393400076413"
     },
     "user_tz": -210
    },
    "id": "S1BzW303b38E",
    "outputId": "2953da7a-a9dc-40d2-85dc-ed9131d48cde"
   },
   "outputs": [
    {
     "name": "stdout",
     "output_type": "stream",
     "text": [
      "<class 'pandas.core.series.Series'>\n"
     ]
    }
   ],
   "source": [
    "train_features, test_features, train_target, test_target = train_test_split(\n",
    "    features_standardized, target, test_size=0.2, random_state=42)\n",
    "print(type(train_target))"
   ]
  },
  {
   "cell_type": "markdown",
   "id": "gtgOeNPvDrgz",
   "metadata": {
    "id": "gtgOeNPvDrgz"
   },
   "source": [
    "# Add a column of 1s for the bias term"
   ]
  },
  {
   "cell_type": "code",
   "execution_count": 12,
   "id": "tjqnlllnb4LE",
   "metadata": {
    "executionInfo": {
     "elapsed": 951,
     "status": "ok",
     "timestamp": 1699890552466,
     "user": {
      "displayName": "alireza nemati",
      "userId": "14897435393400076413"
     },
     "user_tz": -210
    },
    "id": "tjqnlllnb4LE"
   },
   "outputs": [],
   "source": [
    "train_features = np.concatenate((np.ones((train_features.shape[0], 1)), train_features), axis=1)\n",
    "test_features = np.concatenate((np.ones((test_features.shape[0], 1)), test_features), axis=1)"
   ]
  },
  {
   "cell_type": "markdown",
   "id": "Iinrl1_iDy2C",
   "metadata": {
    "id": "Iinrl1_iDy2C"
   },
   "source": [
    "# Calculate the linear regression parameters using the normal equation"
   ]
  },
  {
   "cell_type": "code",
   "execution_count": 18,
   "id": "0263e115",
   "metadata": {
    "colab": {
     "base_uri": "https://localhost:8080/"
    },
    "executionInfo": {
     "elapsed": 10,
     "status": "ok",
     "timestamp": 1699891874155,
     "user": {
      "displayName": "alireza nemati",
      "userId": "14897435393400076413"
     },
     "user_tz": -210
    },
    "id": "0263e115",
    "outputId": "58f2cd20-3b96-4778-df70-debdab11c45c"
   },
   "outputs": [
    {
     "name": "stdout",
     "output_type": "stream",
     "text": [
      "<class 'numpy.ndarray'>\n",
      "(77162, 7)\n",
      "Linear Regression Parameters: [11.93045439  9.33366427 -0.27737168 -0.04338395  0.03617439 -0.0240555\n",
      "  0.55147218]\n",
      "Running Time: 0.004987239837646484 seconds\n"
     ]
    }
   ],
   "source": [
    "start_time = time.time()\n",
    "# Normal equation: theta = (X^T * X)^(-1) * X^T * y\n",
    "X = train_features\n",
    "y = train_target\n",
    "\n",
    "theta = np.linalg.inv(X.T.dot(X)).dot(X.T).dot(y)\n",
    "\n",
    "y_prediction_linear = X @ theta\n",
    "\n",
    "# Calculate the running time\n",
    "end_time = time.time()\n",
    "running_time = end_time - start_time\n",
    "\n",
    "print(\"Linear Regression Parameters:\", theta)\n",
    "print(\"Running Time:\", running_time, \"seconds\")"
   ]
  },
  {
   "cell_type": "code",
   "execution_count": 20,
   "id": "4FseqpyRxJGb",
   "metadata": {
    "executionInfo": {
     "elapsed": 4,
     "status": "ok",
     "timestamp": 1699891869267,
     "user": {
      "displayName": "alireza nemati",
      "userId": "14897435393400076413"
     },
     "user_tz": -210
    },
    "id": "4FseqpyRxJGb"
   },
   "outputs": [],
   "source": [
    "def step_size(t):\n",
    "    epsilon = 1e-8  # Small epsilon value to prevent division by zero\n",
    "    g_bar = 1\n",
    "    for j in range(t):\n",
    "        gt = np.abs(batch_gradients[j])\n",
    "        g_bar = g_bar + (1 / (train_features.shape[0] / batch_sizes[i] + 1)) * np.sum(gt)\n",
    "    alpha = 1 / (1 + g_bar + epsilon)\n",
    "    return alpha"
   ]
  },
  {
   "cell_type": "markdown",
   "id": "Bc14Yq0SD_ul",
   "metadata": {
    "id": "Bc14Yq0SD_ul"
   },
   "source": [
    "mini batch Stochastic Gradient Descent\n",
    "\n",
    "\n",
    "\n"
   ]
  },
  {
   "cell_type": "code",
   "execution_count": null,
   "id": "6InBepGRlkj5",
   "metadata": {
    "colab": {
     "base_uri": "https://localhost:8080/"
    },
    "executionInfo": {
     "elapsed": 722770,
     "status": "ok",
     "timestamp": 1699892601574,
     "user": {
      "displayName": "alireza nemati",
      "userId": "14897435393400076413"
     },
     "user_tz": -210
    },
    "id": "6InBepGRlkj5",
    "outputId": "fa14e334-22c1-4efd-b8fa-32e55472f8d0"
   },
   "outputs": [],
   "source": [
    "# Initialize weights to zero\n",
    "\n",
    "train_target = np.array(train_target)\n",
    "weights = np.zeros(train_features.shape[1])\n",
    "\n",
    "# Set iteration parameters\n",
    "num_epochs = 10000\n",
    "batch_sizes = [10, 20, 30, 40, 50, 100]\n",
    "clip_threshold = 1.0  # Set the threshold for gradient clipping\n",
    "\n",
    "\n",
    "# Perform mini-batch stochastic gradient descent for each batch size\n",
    "for i in range(len(batch_sizes)):\n",
    "    batch_size = batch_sizes[i]\n",
    "    print(\"Batch Size:\", batch_size)\n",
    "    errors = []\n",
    "    batch_gradients = []  # List to store gradients for each mini-batch\n",
    "    start_time1 = time.time()\n",
    "    for epoch in range(1, num_epochs + 1):\n",
    "        # Shuffle the training data\n",
    "        indices = np.arange(train_features.shape[0])\n",
    "        np.random.shuffle(indices)\n",
    "        shuffled_features = train_features[indices]\n",
    "        shuffled_target = train_target[indices]\n",
    "\n",
    "        # Iterate over mini-batches\n",
    "        for k in range(0, train_features.shape[0], batch_size):\n",
    "            X_batch = shuffled_features[k:k + batch_size]\n",
    "            y_batch = shuffled_target[k:k + batch_size]\n",
    "\n",
    "            # Compute mini-batch gradient\n",
    "            gradients = np.dot(X_batch.T, np.dot(X_batch, weights) - y_batch)\n",
    "\n",
    "            # Apply gradient clipping\n",
    "            clipped_gradients = np.clip(gradients, -clip_threshold, clip_threshold)\n",
    "\n",
    "            batch_gradients.append(clipped_gradients)  # Store the computed gradients\n",
    "\n",
    "            # Update the weights\n",
    "            alpha = step_size(epoch)\n",
    "            weights -= alpha * clipped_gradients\n",
    "\n",
    "        # Calculate error on test data\n",
    "        y_pred = np.dot(test_features, weights)\n",
    "        error = np.mean((y_pred - test_target) ** 2)\n",
    "        errors.append(error)\n",
    "        \n",
    "        \n",
    "    end_time1 = time.time()\n",
    "    running_time1 = end_time1 - start_time1\n",
    "\n",
    "    print(\"Running Time:\", running_time1, \"seconds\")\n",
    "    print(\"Errors:\", errors)\n",
    "    print(\"Best Error:\", min(errors))"
   ]
  },
  {
   "cell_type": "markdown",
   "id": "AF-_fBzVETls",
   "metadata": {
    "id": "AF-_fBzVETls"
   },
   "source": [
    "#polynomial regression"
   ]
  },
  {
   "cell_type": "code",
   "execution_count": 20,
   "id": "RHFCSvE819oH",
   "metadata": {
    "executionInfo": {
     "elapsed": 1,
     "status": "ok",
     "timestamp": 1699893334831,
     "user": {
      "displayName": "alireza nemati",
      "userId": "14897435393400076413"
     },
     "user_tz": -210
    },
    "id": "RHFCSvE819oH"
   },
   "outputs": [],
   "source": [
    "degree = 2  # Degree of the polynomial regression\n",
    "X_poly = np.column_stack([train_features**i for i in range(1, degree+1)])"
   ]
  },
  {
   "cell_type": "markdown",
   "id": "Q1c8Hrm5Edf4",
   "metadata": {
    "id": "Q1c8Hrm5Edf4"
   },
   "source": [
    "caculate theta or coefficients"
   ]
  },
  {
   "cell_type": "code",
   "execution_count": 21,
   "id": "2zbxKWIYQHRe",
   "metadata": {
    "executionInfo": {
     "elapsed": 4,
     "status": "ok",
     "timestamp": 1699893335521,
     "user": {
      "displayName": "alireza nemati",
      "userId": "14897435393400076413"
     },
     "user_tz": -210
    },
    "id": "2zbxKWIYQHRe"
   },
   "outputs": [],
   "source": [
    "y = train_target\n",
    "coefficients = np.linalg.inv(X_poly.T @ X_poly) @ X_poly.T @ y"
   ]
  },
  {
   "cell_type": "code",
   "execution_count": 22,
   "id": "Dxw_ZbFnQL2k",
   "metadata": {
    "colab": {
     "base_uri": "https://localhost:8080/"
    },
    "executionInfo": {
     "elapsed": 3,
     "status": "ok",
     "timestamp": 1699893337430,
     "user": {
      "displayName": "alireza nemati",
      "userId": "14897435393400076413"
     },
     "user_tz": -210
    },
    "id": "Dxw_ZbFnQL2k",
    "outputId": "55478c2e-6646-4799-cb8c-77741c197112"
   },
   "outputs": [
    {
     "name": "stdout",
     "output_type": "stream",
     "text": [
      "[-330.50053266 -342.60902831 -329.55573098 ... -337.00020687 -329.21726958\n",
      " -343.00057255]\n"
     ]
    }
   ],
   "source": [
    "y_pred = X_poly @ coefficients\n",
    "print(y_pred)"
   ]
  },
  {
   "cell_type": "code",
   "execution_count": 23,
   "id": "kr5nUB1-doXj",
   "metadata": {
    "executionInfo": {
     "elapsed": 3,
     "status": "ok",
     "timestamp": 1699893339299,
     "user": {
      "displayName": "alireza nemati",
      "userId": "14897435393400076413"
     },
     "user_tz": -210
    },
    "id": "kr5nUB1-doXj"
   },
   "outputs": [],
   "source": [
    "X_test_poly = np.column_stack([test_features**i for i in range(1, degree+1)])"
   ]
  },
  {
   "cell_type": "code",
   "execution_count": 24,
   "id": "IPwdZjuhjUu9",
   "metadata": {
    "executionInfo": {
     "elapsed": 5,
     "status": "ok",
     "timestamp": 1699893339887,
     "user": {
      "displayName": "alireza nemati",
      "userId": "14897435393400076413"
     },
     "user_tz": -210
    },
    "id": "IPwdZjuhjUu9"
   },
   "outputs": [],
   "source": [
    "y_test_pred = X_test_poly @ coefficients\n"
   ]
  },
  {
   "cell_type": "code",
   "execution_count": 25,
   "id": "pX6FxmiFjXWf",
   "metadata": {
    "colab": {
     "base_uri": "https://localhost:8080/"
    },
    "executionInfo": {
     "elapsed": 9,
     "status": "ok",
     "timestamp": 1699893342182,
     "user": {
      "displayName": "alireza nemati",
      "userId": "14897435393400076413"
     },
     "user_tz": -210
    },
    "id": "pX6FxmiFjXWf",
    "outputId": "9f45ea87-1c11-41ec-9173-7e40708b8e8a"
   },
   "outputs": [
    {
     "name": "stdout",
     "output_type": "stream",
     "text": [
      "120654.62586468618\n"
     ]
    }
   ],
   "source": [
    "mse = np.mean((test_target - y_test_pred)**2)\n",
    "print(mse)"
   ]
  },
  {
   "cell_type": "markdown",
   "id": "SCWm-_N2ErXA",
   "metadata": {
    "id": "SCWm-_N2ErXA"
   },
   "source": [
    "mini batch Stochastic Gradient Descent\n",
    "for polynomial regression"
   ]
  },
  {
   "cell_type": "code",
   "execution_count": 26,
   "id": "HB4cB4gujcok",
   "metadata": {
    "colab": {
     "base_uri": "https://localhost:8080/"
    },
    "executionInfo": {
     "elapsed": 720088,
     "status": "ok",
     "timestamp": 1699894065375,
     "user": {
      "displayName": "alireza nemati",
      "userId": "14897435393400076413"
     },
     "user_tz": -210
    },
    "id": "HB4cB4gujcok",
    "outputId": "714d059f-8798-427c-8d07-cbce8dcc2e2c"
   },
   "outputs": [
    {
     "name": "stdout",
     "output_type": "stream",
     "text": [
      "Batch Size: 10\n",
      "Errors: [9.702600570506023, 21.749042284063755, 17.125151108865374, 39.72362399803067, 19.339327503422183, 19.80033131749754, 52.073249472269005, 15.804706641932292, 7.514731430490828, 10.441767122489372, 12.213765347243847, 39.702772150065144, 27.992663081016477, 40.75453091547165, 15.932839851332801, 10.900442391139709, 7.451525965062125, 22.579153551996168, 19.05715181458346, 14.016370870075246, 2.7670497017935283, 27.553986122195855, 4.992840014781721, 11.006896329362966, 24.94848651904828, 35.91112894353799, 6.404307032470347, 19.325020374116885, 11.92653830672175, 14.140764042241944, 8.030867453833299, 6.255861135995729, 78.65054746740103, 10.502996567158307, 10.884270794682065, 25.709484309864738, 17.606832126664056, 22.6395886052197, 34.69794530044901, 100.00257070363388, 18.446279044960644, 15.652117747443368, 16.594669817293514, 9.427447794869215, 8.096871596009489, 4.867178605840917, 56.98003261771927, 22.95751515254619, 27.568880058631038, 16.641712672381313, 18.226824474737754, 26.265614828057828, 4.582401761337173, 24.010750620643027, 6.1650565034955225, 7.401451831102229, 4.5910147816400135, 33.61552799479565, 71.95805879902534, 63.12778192718941, 20.929087215447634, 8.14481414506032, 14.108919488564728, 18.692713555493985, 3.479278038129205, 12.764085500913364, 14.015956329697268, 46.82308110204113, 10.110430794328039, 16.829100417202074, 25.50668186240388, 47.13053320048436, 7.633439697668761, 7.208671499389503, 32.60008227161564, 13.528003141592096, 44.52780046099639, 16.429706419512122, 26.709963639915166, 27.65346975702975, 17.45035850705348, 71.80280284932353, 136.91959665944188, 5.059734749839278, 42.62570245389583, 8.871295523411316, 8.044459742683015, 13.070057403283487, 11.116905595210653, 18.71067748620794, 7.933806169538167, 52.200230437738135, 32.01204143377646, 18.185040297101384, 6.301577795196173, 14.35237719746022, 34.90728084642224, 12.948819624097354, 6.614141229989274, 15.34404277494501]\n",
      "Best Error: 2.7670497017935283\n",
      "Batch Size: 20\n",
      "Errors: [6.531243386981152, 110.88618419228035, 6.153845443514392, 14.878877718985459, 4.325078462264797, 8.779533215210185, 177.97689896584336, 12.988383667721656, 22.589105022059186, 6.53461163126319, 11.072819820935365, 3.7601234738104354, 11.032664773063072, 9.949373700266383, 2.056695508645468, 32.34786073134054, 13.490739419088648, 4.119544540905961, 8.30838926812458, 60.87350197658949, 15.23470607101882, 9.66734812740421, 9.327346191377664, 8.445761892216334, 3.8297990565452973, 25.027063175183287, 8.873981147299387, 42.91024983174932, 6.750042341816236, 8.967815099984195, 39.73081386063405, 10.463171050084064, 17.60961244028643, 219.05668304548908, 10.416061850124331, 11.110270542167326, 16.209704365473378, 27.688004028854984, 32.25511814396877, 10.73365283589566, 25.440474084156314, 20.847262347642815, 9.92561891050932, 19.173693810401993, 24.846934055374263, 16.934348574102625, 23.2593136141351, 12.493655097971423, 77.48513653579307, 7.672464108734319, 7.356537635502053, 12.400315801168981, 10.407174575567108, 19.137794518424357, 84.51557371397591, 7.797356686581934, 7.352051709761795, 22.024221306369707, 12.20442879029201, 14.09288352551021, 24.577521541954443, 33.04994613054665, 6.8248287849752645, 12.335135784090156, 9.811998619134616, 8.190779805001208, 16.20738275849567, 9.425099242255406, 26.900990221587595, 48.420027352883814, 19.38259517833403, 27.531818402353913, 26.203529940333457, 10.362347224721582, 5.991210848707842, 12.002584293532905, 6.067168398091938, 6.835391718846326, 12.224531212175192, 8.804822382604174, 14.4580453850007, 10.972336290717374, 28.546424911055553, 23.293319587143245, 9.256727964563835, 47.72321024173239, 4.124294086467301, 7.662490905133712, 25.648939501143392, 19.178911660133565, 8.2414220654567, 35.57050685275405, 28.126232621861508, 25.224560440864675, 10.544790185082611, 4.928949023391395, 5.271831229083539, 22.676491966485404, 5.633761097319751, 10.608256880930297]\n",
      "Best Error: 2.056695508645468\n",
      "Batch Size: 30\n",
      "Errors: [13.376603516021035, 10.661775277858567, 24.25855414534439, 5.574028910944533, 23.359766004050737, 12.813971392444504, 9.142050844047832, 37.11943993863559, 4.055846287568184, 9.602218078616328, 10.286655657353439, 13.331891033199003, 19.377601130948484, 18.76917191863855, 84.90238900121017, 15.087916563875972, 12.56052888375455, 5.761875531006744, 51.002176093680376, 37.97887402121875, 39.21935101267767, 22.835498237518905, 8.340127350451107, 11.18628775058372, 17.456614951805186, 8.32582416531505, 48.5324030627922, 15.916700593349704, 2.7955586588269883, 19.765750646185875, 12.98662972310091, 11.393514044213042, 19.000320040569274, 6.634217723505914, 6.258051117754291, 10.991968065526212, 15.334943621663383, 10.1692109550435, 14.124112091307877, 4.243853418816877, 16.325167107789497, 5.320949133737363, 4.004798989813662, 20.546030418390636, 45.76311480775363, 16.17499235090547, 35.35822338142812, 8.0232926506466, 5.924761264619655, 5.692859718793508, 12.219525363304065, 8.570217854972464, 8.023761643777242, 13.595715233741357, 6.4899087648151035, 15.270137701848956, 20.494260807150074, 6.32052751776182, 19.183837404695996, 15.955240009626724, 18.44559751943879, 7.311654455192542, 7.061904370862668, 3.6859331952977143, 5.381110269997859, 17.703728383763295, 22.928771826613655, 5.322040666572004, 10.333661160643954, 7.974005807206559, 4.390229402550079, 21.06819214868256, 15.320870876482106, 7.391815666775655, 11.28152941162981, 9.195426839182666, 5.7714229032048605, 8.445381379287928, 7.235793623641664, 14.373834986640622, 4.846999392516229, 27.065115677534227, 5.803515531166143, 17.673183596675194, 4.950777542694847, 20.45540236154441, 3.2514124111535554, 5.290056170252516, 11.499096654066154, 39.35379547471368, 19.459157768845614, 6.144208074543764, 20.21115591484394, 49.60518045014503, 10.919730642483763, 13.572884963717081, 67.65803049735325, 14.452686439174416, 39.42054139279449, 4.399675827309835]\n",
      "Best Error: 2.7955586588269883\n",
      "Batch Size: 40\n",
      "Errors: [12.48800706362671, 15.8476064854559, 17.42413611728038, 59.02303954302218, 6.201125612963064, 8.30750314001876, 21.97702190388784, 40.38980376630562, 13.467972742780217, 12.768803107067027, 36.77579798339526, 10.705715353518146, 8.765820301454381, 10.974983519282818, 14.262195520968504, 3.8845969376351683, 8.545462027762198, 7.062523218611122, 16.885805171212297, 8.21595964543027, 7.637170434675723, 37.351198449277376, 8.926450536884856, 11.971811820360562, 7.821562566917457, 11.133648632336591, 14.709112897842923, 33.652168331555906, 6.310346243866779, 21.190849081924757, 18.76483354978951, 11.35550689268, 8.441045423648829, 4.287245551763298, 15.911215442570066, 13.283935128253976, 5.815627699440359, 20.155940159587253, 3.7920061475590736, 7.118220929424355, 4.210803244517722, 9.257153372104444, 19.224155193113848, 55.020047723158406, 14.454596716653848, 4.516130934464166, 7.600271819820486, 19.726151309620302, 37.52846398488178, 9.213070568797537, 20.119385934038732, 19.013494460666408, 6.557928277674925, 9.02282387264112, 15.911992394083756, 14.543507908758288, 11.18345868472104, 5.875849821272219, 17.840929981915796, 3.7906923060877116, 7.622152967630536, 6.16248825187307, 5.90389643342613, 6.313479291565553, 6.0560246604541685, 5.213290432934818, 17.25357464668216, 6.1561217905389505, 11.548255275370455, 22.48560153227012, 10.617863915434711, 5.349952991406839, 3.143449896136003, 15.585605826152596, 14.191141269386355, 8.474281385097031, 10.311233211669242, 4.21077844300812, 25.009204487190335, 5.3508199542150265, 6.032487492162938, 9.528846953141448, 9.836126647071287, 10.389075110200439, 3.948200350212628, 4.437631024930903, 35.74265986778332, 14.001259663134165, 2.4731505035527297, 8.112564538830663, 11.726171005568688, 10.60127061086976, 13.861970278732235, 4.920239037961312, 7.737014752366466, 16.256975289873186, 18.351743067397294, 18.70728647665731, 15.17578096143335, 5.132174237947878]\n",
      "Best Error: 2.4731505035527297\n",
      "Batch Size: 50\n",
      "Errors: [13.607308260346679, 18.14043356375608, 9.405178159945843, 8.535935681295058, 4.842341314866644, 12.13799571849607, 60.05949936666027, 40.70950839223593, 4.037998702375279, 22.306277737708612, 6.151288975516847, 15.723060702062705, 9.155914999038913, 6.5645150422494725, 10.0045251682011, 12.622268417751506, 6.367061714899162, 23.51578404053746, 8.015648446051689, 6.581173039016375, 9.66279045252575, 19.789148018236922, 6.4988192677382965, 8.787098962370276, 15.879237437322248, 6.229049214847409, 6.217433759031494, 14.37884962356365, 4.520047809386024, 11.133991036447469, 8.570927454990894, 21.502177702375597, 4.300157920998251, 16.943486882363594, 5.7226649952573645, 13.70526690611564, 16.94805716271409, 8.757029207974641, 4.668017591973203, 6.685679184248355, 6.525993115409474, 19.03789474457426, 12.510730062588237, 37.64638766511272, 5.014814913587457, 15.102069059662075, 14.496976044529056, 17.424671867987506, 10.122441757816285, 3.2009131944993077, 6.1435138100053654, 10.953650043432486, 13.102102036171074, 5.184359985129017, 9.306699188907501, 4.839961330888775, 4.861322109444794, 27.353857291563767, 36.633426302739245, 14.525465990436405, 8.842399149244384, 4.772904724689886, 8.098173766463155, 15.981027938405228, 14.729772234388765, 12.412983768435353, 20.59235480742483, 14.990812652008222, 17.308235532001763, 7.979684047069345, 3.7132228201291415, 8.715592764988687, 5.467217231972037, 6.547978236396722, 25.17538625339617, 13.44149170753321, 14.223180892515392, 6.306330896428023, 6.428446210310407, 29.276134875656112, 24.480507116063503, 17.199425094219247, 35.70771353225404, 31.587627616202163, 6.608996801263258, 8.923674229849066, 7.134070642734644, 8.95240353805791, 10.854545509810546, 5.357294213110012, 22.382373962893684, 10.986137226601047, 20.556370276375603, 18.208804074440767, 3.7784977925954313, 5.562615917889179, 8.08939183404188, 19.662626437476156, 9.174384151466677, 3.216753433555954]\n",
      "Best Error: 3.2009131944993077\n",
      "Batch Size: 100\n",
      "Errors: [31.609525770362673, 7.713527954838397, 15.539908116124838, 8.403825230795691, 6.597004782844601, 13.884601099532178, 17.18685133501097, 16.66909123250853, 8.377134713084489, 11.978678747123626, 14.812891981682606, 14.953945861747684, 11.259236762940336, 6.407769579035707, 6.808330609036342, 10.080774142995462, 4.3234701915763365, 6.192256820429556, 20.29531496458655, 7.310774202938429, 40.26103705941429, 7.0866008904440925, 8.756663685213951, 6.245072006662861, 10.702870564396955, 14.464532106105104, 3.4216175771613586, 9.674482643244696, 12.19292917409059, 9.639070303631001, 7.569369735560804, 8.196443464243655, 16.9624211712739, 4.953173726536469, 8.376834931700623, 11.541212009772062, 10.420549538536633, 8.4549330347395, 8.322320019608835, 8.795765357119109, 6.017316686721431, 7.515241362936959, 10.97779786396746, 9.675017175228053, 6.9716406912828495, 6.53103879313757, 11.253444900089464, 9.824558118995576, 6.034307365627863, 18.096222990225407, 11.46918178308727, 8.07356039685703, 5.946388809622132, 5.891671849452087, 5.5046244063430985, 7.798060600579602, 3.183895592276971, 6.467730166535763, 8.470974909305554, 5.1017958186492915, 5.079729504046577, 4.222674921015562, 5.273869837660324, 4.561675775069632, 14.538070719851138, 11.53040036271608, 4.492885524789452, 3.709151578852121, 11.10375929781766, 3.6762900965691254, 10.773507157421285, 4.487364049522459, 3.036234178119532, 4.638718664931227, 7.215325762568051, 4.395768682351653, 4.187770268537033, 8.619404193637887, 4.87046951064581, 2.6696963976535115, 4.29579655435944, 10.72752301857119, 2.5966838140027337, 5.060174213491898, 2.82946298121076, 5.09962881520382, 21.45794349299574, 7.958074309345922, 5.680958490973166, 3.4824357352139073, 7.409160674724347, 2.760740869760056, 3.203967704557148, 3.856402507042707, 5.354450853030229, 3.2407469708816716, 6.137991396555735, 1.5720448831428315, 8.718657375830729, 4.316832686117843]\n",
      "Best Error: 1.5720448831428315\n"
     ]
    }
   ],
   "source": [
    "\n",
    "weights = np.zeros(X_poly.shape[1])\n",
    "\n",
    "# Set iteration parameters\n",
    "num_epochs = 10000\n",
    "batch_sizes = [10, 20, 30, 40, 50, 100]\n",
    "clip_threshold = 1.0  # Set the threshold for gradient clipping\n",
    "\n",
    "\n",
    "\n",
    "# Perform mini-batch stochastic gradient descent for each batch size\n",
    "for i in range(len(batch_sizes)):\n",
    "    batch_size = batch_sizes[i]\n",
    "    print(\"Batch Size:\", batch_size)\n",
    "    errors = []\n",
    "    batch_gradients = []  # List to store gradients for each mini-batch\n",
    "\n",
    "    for epoch in range(1, num_epochs + 1):\n",
    "        # Shuffle the training data\n",
    "        indices = np.arange(X_poly.shape[0])\n",
    "        np.random.shuffle(indices)\n",
    "        shuffled_features = X_poly[indices]\n",
    "        shuffled_target = train_target[indices]\n",
    "\n",
    "        # Iterate over mini-batches\n",
    "        for k in range(0, X_poly.shape[0], batch_size):\n",
    "            X_batch = shuffled_features[k:k + batch_size]\n",
    "            y_batch = shuffled_target[k:k + batch_size]\n",
    "\n",
    "            # Compute mini-batch gradient\n",
    "            gradients = np.dot(X_batch.T, np.dot(X_batch, weights) - y_batch)\n",
    "\n",
    "            # Apply gradient clipping\n",
    "            clipped_gradients = np.clip(gradients, -clip_threshold, clip_threshold)\n",
    "\n",
    "            batch_gradients.append(clipped_gradients)  # Store the computed gradients\n",
    "\n",
    "            # Update the weights\n",
    "            alpha = step_size(epoch)\n",
    "            weights -= alpha * clipped_gradients\n",
    "\n",
    "        # Calculate error on test data\n",
    "        y_pred1 = np.dot(X_test_poly, weights)\n",
    "        error = np.mean((y_pred1 - test_target) ** 2)\n",
    "        errors.append(error)\n",
    "\n",
    "    print(\"Errors:\", errors)\n",
    "    print(\"Best Error:\", min(errors))"
   ]
  },
  {
   "cell_type": "markdown",
   "id": "9wIIGoiZE5RL",
   "metadata": {
    "id": "9wIIGoiZE5RL"
   },
   "source": [
    "#adagard"
   ]
  },
  {
   "cell_type": "code",
   "execution_count": 28,
   "id": "8ZkhXGxpwokz",
   "metadata": {
    "colab": {
     "base_uri": "https://localhost:8080/"
    },
    "executionInfo": {
     "elapsed": 93998,
     "status": "ok",
     "timestamp": 1699896470599,
     "user": {
      "displayName": "alireza nemati",
      "userId": "14897435393400076413"
     },
     "user_tz": -210
    },
    "id": "8ZkhXGxpwokz",
    "outputId": "4f465d0d-ff0c-4031-f3dc-c2ecdedd13ce"
   },
   "outputs": [
    {
     "name": "stdout",
     "output_type": "stream",
     "text": [
      "Batch Size: 10\n",
      "Errors: [230.23807250946146, 229.07095157864316, 228.1735712424133, 227.4209634733096, 226.75653160866733, 226.15771067001452, 225.60862521949673, 225.09527354674697, 224.61432635101278, 224.15966354565205, 223.7278860423729, 223.3165743589931, 222.92111137542682, 222.54059443299468, 222.1744046069433, 221.81938429910858, 221.47594056361373, 221.14255976679166, 220.81855702803324, 220.50246351738446, 220.19512682172973, 219.89525916105444, 219.6023362290883, 219.31491236200546, 219.03439809614432, 218.75872743307704, 218.48857531645655, 218.22370238535572, 217.9638959328626, 217.70895181551646, 217.45831477164774, 217.211469989318, 216.9685065216406, 216.7294028119898, 216.49396156571134, 216.26178644687843, 216.0330120293551, 215.80683810065074, 215.58415195389813, 215.3640439855546, 215.14682925539086, 214.9324372721284, 214.72052181575333, 214.51134758881318, 214.3046470866966, 214.100396772824, 213.89838000942603, 213.69811742093518, 213.4999589160606, 213.3043721839104, 213.1107761306654, 212.91904217335502, 212.7292187655046, 212.54098401630452, 212.3547746350065, 212.17040990427412, 211.98765847673243, 211.8068071949855, 211.62763966970778, 211.449830839368, 211.27351432413053, 211.09882721100988, 210.92547108446965, 210.75347157517945, 210.58286127099174, 210.41374243907325, 210.24578978150663, 210.0790024713226, 209.91354641913472, 209.74945789588847, 209.58671392686853, 209.42504811049747, 209.26450598193014, 209.1049608820341, 208.94642618708514, 208.7895776983222, 208.63359952571858, 208.47845895119158, 208.32437762577555, 208.1713335623647, 208.01943364429576, 207.86839421077966, 207.71804291416262, 207.56886597794733, 207.4204550332655, 207.27319693671376, 207.12682410591722, 206.98115708168487, 206.83641417273722, 206.69272965211508, 206.5495562415736, 206.40731085966053, 206.26613376228795, 206.12561619109434, 205.98569195520793, 205.84664571453283, 205.70836596233173, 205.57107943080348, 205.43410394206163, 205.29807298330397]\n",
      "Best Error: 205.29807298330397\n",
      "Batch Size: 20\n",
      "Errors: [204.1923043583585, 203.72574994965498, 203.3678702789589, 203.06661494936327, 202.8019484328171, 202.5625293527597, 202.3421903293736, 202.1370230647194, 201.94480391787846, 201.762449630794, 201.5898303905686, 201.42460636541708, 201.26629759964058, 201.11362958867926, 200.96655378185923, 200.82448312007853, 200.68690666359902, 200.55333147739063, 200.4232646479611, 200.29637170477682, 200.17287474486668, 200.05234748657796, 199.93452851246823, 199.8193573496577, 199.70641444255713, 199.59591580364702, 199.48720968916078, 199.38086990376874, 199.2764070113054, 199.1736278236284, 199.07257236060173, 198.97320471574372, 198.87521360591424, 198.77904323514477, 198.68410086594506, 198.59057312407862, 198.49831658015307, 198.40730744157204, 198.31754703864001, 198.2288665808886, 198.1413856555104, 198.05480154389377, 197.96944950798132, 197.88497662264044, 197.8014953467171, 197.719055420626, 197.63738957505512, 197.5568710405525, 197.47700694305286, 197.39795294004068, 197.319554013197, 197.24195041955124, 197.16519570619928, 197.08918635178307, 197.01397314340934, 196.93927773398082, 196.86534747298643, 196.79222894814606, 196.71959158917366, 196.64757460016835, 196.57622420271778, 196.50533766420386, 196.43518763777809, 196.36547861350212, 196.29644283633766, 196.2281251477418, 196.15997854645013, 196.092511173246, 196.02559271779194, 195.95913818402244, 195.89315444663129, 195.82755849106667, 195.76249422474424, 195.69773898496484, 195.6335717905653, 195.5697450682405, 195.50623792209961, 195.4431301716591, 195.38063645671957, 195.31834428323293, 195.25657796242274, 195.19522518932376, 195.13432489369535, 195.0738063484976, 195.0136136784381, 194.95379145556169, 194.89435922809355, 194.8352237082695, 194.7762955510555, 194.7178034535439, 194.6595728420769, 194.60174386386342, 194.54422460728134, 194.48704101518007, 194.43008285775772, 194.37346151288503, 194.317189325013, 194.26105844072114, 194.20533657514008, 194.14992062890218]\n",
      "Best Error: 194.14992062890218\n",
      "Batch Size: 30\n",
      "Errors: [193.51621445601117, 193.25010151519498, 193.04578996376557, 192.8739481107131, 192.72245498176505, 192.58549125529038, 192.45980974176348, 192.34248521182224, 192.23272044444033, 192.12879430677776, 192.02992245016466, 191.93547665447988, 191.84496827347832, 191.7577213777021, 191.67372469910458, 191.5924239362072, 191.51371259819194, 191.43724329630757, 191.3627875903321, 191.2903116685118, 191.21969621600323, 191.15068941268618, 191.08332711862792, 191.01740236469266, 190.9528147294807, 190.88959542114623, 190.82747575904878, 190.7666474652151, 190.70687197607495, 190.64801090344912, 190.5900700952887, 190.53316089814723, 190.47702161474774, 190.42183696249822, 190.3674231119642, 190.31378673565177, 190.26092218723014, 190.2088340909826, 190.157435085706, 190.10662178389475, 190.0565009589117, 190.0069138163491, 189.95796480845485, 189.90954742107473, 189.86167810792026, 189.81439077697215, 189.767667141613, 189.7213885025069, 189.67562878114467, 189.63035979285897, 189.58549300282942, 189.54100004448188, 189.4970355682161, 189.4533743243809, 189.4102136067083, 189.36748365499105, 189.32499866078655, 189.2829946948336, 189.24142885133776, 189.20011469838164, 189.15911717253024, 189.11848493790058, 189.0781624632566, 189.03822915694573, 188.9985506711575, 188.95920291388322, 188.92011892681768, 188.88136200246882, 188.84286020911023, 188.8046642670518, 188.7667918570416, 188.72914940285358, 188.69178149137437, 188.65467930693555, 188.61783260925856, 188.58121857940768, 188.54478670244097, 188.5086625655002, 188.4726903418865, 188.43708232999293, 188.4016417248976, 188.36640216798182, 188.33134181884446, 188.29651329036417, 188.2618862529404, 188.2274530621672, 188.19334626282645, 188.15932913062989, 188.12551821978462, 188.0920158953819, 188.05857444691316, 188.02538188498536, 187.99233791247818, 187.95951334322834, 187.92679797626906, 187.89430621202803, 187.8619311641807, 187.8297444914225, 187.7977100169505, 187.7658272447832]\n",
      "Best Error: 187.7658272447832\n",
      "Batch Size: 40\n",
      "Errors: [187.267833643899, 187.09074568357372, 186.95480240284834, 186.84029859193643, 186.7393735529884, 186.64835992469978, 186.56452170029175, 186.48661566951878, 186.41347139228097, 186.34420690669774, 186.27840363645774, 186.21554497335407, 186.15515726959032, 186.09706485534818, 186.0410378406725, 185.98684116656938, 185.93434599048595, 185.88339220753508, 185.83384198423337, 185.78562930500956, 185.73868382410248, 185.69269810860152, 185.6477992379318, 185.60388768235396, 185.56086746592487, 185.51874971833777, 185.4774264040773, 185.43677500948974, 185.3968490565708, 185.3576456541429, 185.31913198371265, 185.28122109452755, 185.24390115128355, 185.20717587695498, 185.17094206948823, 185.13519288162462, 185.0999315091793, 185.0652323816813, 185.03091392734572, 184.99706374807425, 184.96357970448136, 184.93059868096486, 184.8979233280638, 184.86568625682142, 184.8337826605663, 184.80221839827064, 184.77103889469922, 184.74019939201614, 184.70971767660552, 184.6794681983468, 184.64956020686455, 184.61993786665013, 184.590588169845, 184.56150585936803, 184.53269010159667, 184.50419369414854, 184.47595466211308, 184.4479250149045, 184.4201490225921, 184.39263922406386, 184.36533275410744, 184.33825155676558, 184.31134467052718, 184.28471982893842, 184.2582407899543, 184.23196522344657, 184.20591681349887, 184.18002158645047, 184.1543228824283, 184.12882269639587, 184.10346974290002, 184.07835426564043, 184.0533932610429, 184.02861200451827, 184.00402883549663, 183.97957728636268, 183.95530262817596, 183.93110755225527, 183.90717489146624, 183.8833491147532, 183.8596203187758, 183.83607734726291, 183.81269872881265, 183.78944625754366, 183.7663381139398, 183.7433617360608, 183.7205458334808, 183.69784239524623, 183.67528234060964, 183.65289284560242, 183.63057771003486, 183.60840019271862, 183.5863243064222, 183.5643497618484, 183.54249712343892, 183.52078293117825, 183.49914215324793, 183.47767159330473, 183.45629761827237, 183.43503279501144]\n",
      "Best Error: 183.43503279501144\n",
      "Batch Size: 50\n",
      "Errors: [183.133279922631, 183.0045940950911, 182.90578226072114, 182.82275930855187, 182.74958602686726, 182.6833863280299, 182.62259346747456, 182.56596150170245, 182.51277482066806, 182.46251346352574, 182.41468104364532, 182.36902095319618, 182.32520429825942, 182.28301321869498, 182.2423298843726, 182.20293366806473, 182.1648630152712, 182.12782259342254, 182.0918316963297, 182.0567650852058, 182.0226072612268, 181.98925267081486, 181.9566363291718, 181.92467742822024, 181.8934041874527, 181.86281616926362, 181.83277419944994, 181.80328630792656, 181.77427470468376, 181.74579931136182, 181.7177827662912, 181.6902059908114, 181.66299768085054, 181.6362099412569, 181.6098762353826, 181.58389100717318, 181.55826671950066, 181.53297737232003, 181.50802770376788, 181.48342634897284, 181.45909922854824, 181.435047275859, 181.411340005225, 181.38786317918704, 181.36468567158622, 181.34172897041228, 181.31906615482188, 181.29660191017473, 181.27436132709562, 181.25236678688708, 181.23060420113836, 181.20903266630356, 181.1876963239757, 181.1665289849622, 181.14557437154173, 181.12482656425178, 181.10427683054954, 181.08388430839457, 181.06366252821712, 181.04361712383024, 181.02375338721555, 181.00404491520555, 180.98447250265446, 180.96510323921208, 180.94587006023428, 180.92677924717535, 180.9078306096487, 180.88899795791258, 180.87031630089518, 180.8517844352823, 180.83336191659475, 180.81507504095242, 180.79692094667476, 180.77887940027037, 180.76098930573104, 180.74320897136022, 180.72555438530514, 180.70801008450567, 180.69057942400792, 180.6732437626741, 180.65603479833018, 180.63893423638982, 180.62192598733125, 180.60501783646163, 180.5882410109902, 180.5715460550715, 180.55492129213286, 180.5384139013108, 180.52200796500932, 180.50569879388166, 180.48948972907525, 180.47334138460792, 180.45728589879755, 180.44129618678903, 180.42540009631202, 180.4095847565091, 180.39387082161988, 180.37825115433446, 180.36271157114905, 180.34723053484026]\n",
      "Best Error: 180.34723053484026\n",
      "Batch Size: 100\n",
      "Errors: [180.2357838573263, 180.1889228920154, 180.1529660061733, 180.12266746985148, 180.09594241152752, 180.0717942183466, 180.04958668490835, 180.02894371168605, 180.00954262048168, 179.99119129596127, 179.97372558876395, 179.9570383040993, 179.94104289174052, 179.92567199691567, 179.91079298790655, 179.89642526360208, 179.88247994705563, 179.86895172033485, 179.85579945149584, 179.84301498668975, 179.8305498778089, 179.8183764411949, 179.80646555368762, 179.79480083078644, 179.78337072444592, 179.7721452216035, 179.76116624697949, 179.75038837255286, 179.7397985676887, 179.72941520538748, 179.71917309745774, 179.7091127717978, 179.69921087544952, 179.6894468601862, 179.6798241304937, 179.6703519268668, 179.6609829665338, 179.65175183922366, 179.64263777842268, 179.63364242579223, 179.62475029857166, 179.61599798847715, 179.60733695723727, 179.5987564035893, 179.59029125665376, 179.58192267427395, 179.5736385107333, 179.56541690986322, 179.55730262638474, 179.5492852903956, 179.54133587692212, 179.53345899118787, 179.52565744224546, 179.5179281542032, 179.51027911933824, 179.50269840301718, 179.49517372496274, 179.48771771691474, 179.4803302154241, 179.4730126552027, 179.46573829981386, 179.4585334186664, 179.45138655449568, 179.44429479526, 179.43725266242788, 179.4302725397583, 179.42333324738163, 179.41646040087957, 179.40963594388444, 179.4028525596916, 179.39613246530158, 179.38946226051465, 179.38281373638858, 179.37620973991167, 179.36966648193211, 179.36316529635232, 179.35671781153343, 179.3502894649439, 179.3439163216278, 179.33757351052225, 179.33128229534879, 179.32502021371212, 179.3187893601244, 179.31260472375217, 179.3064515151132, 179.30034163768798, 179.2942662531301, 179.28823457547918, 179.28223224523714, 179.27626853277272, 179.27032596635618, 179.26442024021932, 179.25855779523934, 179.25272492089448, 179.246927653295, 179.24114147125982, 179.23538378779685, 179.22965390326667, 179.22396100524534, 179.2182893747366]\n",
      "Best Error: 179.2182893747366\n"
     ]
    }
   ],
   "source": [
    "def adagrad_step_size(epoch, learning_rate, sum_squared_gradients):\n",
    "    return learning_rate / np.sqrt(sum_squared_gradients + 1e-8)\n",
    "\n",
    "weights = np.zeros(X_poly.shape[1])\n",
    "\n",
    "# Set iteration parameters\n",
    "num_epochs = 10000\n",
    "learning_rate = 0.001\n",
    "batch_sizes = [10, 20, 30, 40, 50, 100]\n",
    "clip_threshold = 1.0  # Set the threshold for gradient clipping\n",
    "\n",
    "# Perform mini-batch stochastic gradient descent for each batch size\n",
    "for i in range(len(batch_sizes)):\n",
    "    batch_size = batch_sizes[i]\n",
    "    print(\"Batch Size:\", batch_size)\n",
    "    errors = []\n",
    "    batch_gradients = []  # List to store gradients for each mini-batch\n",
    "    sum_squared_gradients = np.zeros(X_poly.shape[1])  # Initialize sum of squared gradients\n",
    "\n",
    "    for epoch in range(1, num_epochs + 1):\n",
    "        # Shuffle the training data\n",
    "        indices = np.arange(X_poly.shape[0])\n",
    "        np.random.shuffle(indices)\n",
    "        shuffled_features = X_poly[indices]\n",
    "        shuffled_target = train_target[indices]\n",
    "\n",
    "        # Iterate over mini-batches\n",
    "        for k in range(0, X_poly.shape[0], batch_size):\n",
    "            X_batch = shuffled_features[k:k + batch_size]\n",
    "            y_batch = shuffled_target[k:k + batch_size]\n",
    "\n",
    "            # Compute mini-batch gradient\n",
    "            gradients = np.dot(X_batch.T, np.dot(X_batch, weights) - y_batch)\n",
    "\n",
    "            # Apply gradient clipping\n",
    "            clipped_gradients = np.clip(gradients, -clip_threshold, clip_threshold)\n",
    "\n",
    "            batch_gradients.append(clipped_gradients)  # Store the computed gradients\n",
    "\n",
    "            # Update sum of squared gradients\n",
    "            sum_squared_gradients += gradients**2\n",
    "\n",
    "            # Update the weights using AdaGrad step size\n",
    "            alpha = adagrad_step_size(epoch, learning_rate, sum_squared_gradients)\n",
    "            weights -= alpha * clipped_gradients\n",
    "\n",
    "        # Calculate error on test data\n",
    "        y_pred1 = np.dot(X_test_poly, weights)\n",
    "        error = np.mean((y_pred1 - test_target) ** 2)\n",
    "        errors.append(error)\n",
    "\n",
    "    print(\"Errors:\", errors)\n",
    "    print(\"Best Error:\", min(errors))"
   ]
  },
  {
   "cell_type": "markdown",
   "id": "uVBM6qmEE-6E",
   "metadata": {
    "id": "uVBM6qmEE-6E"
   },
   "source": [
    "#use scikit-model"
   ]
  },
  {
   "cell_type": "code",
   "execution_count": 30,
   "id": "KjDx3gGptxG5",
   "metadata": {
    "colab": {
     "base_uri": "https://localhost:8080/"
    },
    "executionInfo": {
     "elapsed": 612,
     "status": "ok",
     "timestamp": 1699899733326,
     "user": {
      "displayName": "alireza nemati",
      "userId": "14897435393400076413"
     },
     "user_tz": -210
    },
    "id": "KjDx3gGptxG5",
    "outputId": "a0f86a69-5d73-4396-d358-420dc2788ae7"
   },
   "outputs": [
    {
     "name": "stdout",
     "output_type": "stream",
     "text": [
      "0.9902437799520607\n"
     ]
    }
   ],
   "source": [
    "regr = LinearRegression()\n",
    "\n",
    "regr.fit(train_features, train_target)\n",
    "print(regr.score(test_features, test_target))"
   ]
  },
  {
   "cell_type": "code",
   "execution_count": 34,
   "id": "qNhRcVIb62lM",
   "metadata": {
    "colab": {
     "base_uri": "https://localhost:8080/"
    },
    "executionInfo": {
     "elapsed": 10,
     "status": "ok",
     "timestamp": 1699900993002,
     "user": {
      "displayName": "alireza nemati",
      "userId": "14897435393400076413"
     },
     "user_tz": -210
    },
    "id": "qNhRcVIb62lM",
    "outputId": "03255e42-29ad-40f2-8853-b99c892a9312"
   },
   "outputs": [
    {
     "name": "stdout",
     "output_type": "stream",
     "text": [
      "0.9967998963103752\n"
     ]
    }
   ],
   "source": [
    "poly2 = PolynomialFeatures(degree=2)\n",
    "X_poly2 = poly2.fit_transform(train_features)\n",
    "test_poly2 = poly2.fit_transform(test_features)\n",
    "poly2.fit(X_poly2, train_target)\n",
    "lin2 = LinearRegression()\n",
    "lin2.fit(X_poly2, train_target)\n",
    "print(lin2.score(test_poly2, test_target))"
   ]
  },
  {
   "cell_type": "code",
   "execution_count": null,
   "id": "59418a10",
   "metadata": {},
   "outputs": [],
   "source": []
  }
 ],
 "metadata": {
  "colab": {
   "provenance": []
  },
  "kernelspec": {
   "display_name": "Python 3 (ipykernel)",
   "language": "python",
   "name": "python3"
  },
  "language_info": {
   "codemirror_mode": {
    "name": "ipython",
    "version": 3
   },
   "file_extension": ".py",
   "mimetype": "text/x-python",
   "name": "python",
   "nbconvert_exporter": "python",
   "pygments_lexer": "ipython3",
   "version": "3.10.9"
  }
 },
 "nbformat": 4,
 "nbformat_minor": 5
}
